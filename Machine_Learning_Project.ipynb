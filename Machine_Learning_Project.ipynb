{
 "cells": [
  {
   "cell_type": "markdown",
   "metadata": {},
   "source": [
    "# Author: Kumar R."
   ]
  },
  {
   "cell_type": "markdown",
   "metadata": {},
   "source": [
    "# Project: Machine Learning"
   ]
  },
  {
   "cell_type": "markdown",
   "metadata": {},
   "source": [
    "#### In this project I'm going to predict the overall rating of soccer player based on their attributes such as 'crossing', 'finishing etc"
   ]
  },
  {
   "cell_type": "markdown",
   "metadata": {},
   "source": [
    "About the Dataset\n",
    "\n",
    "The ultimate Soccer database for data analysis and machine learning\n",
    "\n",
    "The dataset comes in the form of an SQL database and contains statistics of about 25,000 football \n",
    "matches, from the top football league of 11 European Countries. It covers seasons from 2008 to \n",
    "2016 and contains match statistics (i.e: scores, corners, fouls etc...) as well as the team \n",
    "formations, with player names and a pair of coordinates to indicate their position on the pitch.\n",
    "\n",
    "->+25,000 matches\n",
    "\n",
    "->+10,000 players\n",
    "\n",
    "->11 European Countries with their lead championship\n",
    "\n",
    "->Seasons 2008 to 2016\n",
    "\n",
    "->Players and Teams' attributes* sourced from EA Sports' FIFA video game series, including the weekly updates\n",
    "\n",
    "->Team line up with squad formation (X, Y coordinates)\n",
    "\n",
    "->Betting odds from up to 10 providers\n",
    "\n",
    "->Detailed match events (goal types, possession, corner, cross, fouls, cards etc...) for +10,000 matches\n",
    "\n",
    "The dataset also has a set of about 35 statistics for each player, derived from EA Sports' FIFA \n",
    "video games. It is not just the stats that come with a new version of the game but also the weekly \n",
    "updates. So for instance if a player has performed poorly over a period of time and his stats get \n",
    "impacted in FIFA, you would normally see the same in the dataset."
   ]
  },
  {
   "cell_type": "code",
   "execution_count": 1,
   "metadata": {},
   "outputs": [],
   "source": [
    "#Import the required libraries\n",
    "import sqlite3\n",
    "import numpy as np\n",
    "import pandas as pd\n",
    "import matplotlib.pyplot as plt\n",
    "import seaborn as sns\n",
    "from math import sqrt\n",
    "%matplotlib inline\n",
    "import warnings\n",
    "warnings.filterwarnings('ignore')"
   ]
  },
  {
   "cell_type": "markdown",
   "metadata": {},
   "source": [
    "Read Data from the Database into pandas"
   ]
  },
  {
   "cell_type": "code",
   "execution_count": 2,
   "metadata": {},
   "outputs": [],
   "source": [
    "# Create your connection.\n",
    "cnx = sqlite3.connect('database.sqlite')\n",
    "df = pd.read_sql_query(\"SELECT * FROM Player_Attributes\", cnx)"
   ]
  },
  {
   "cell_type": "code",
   "execution_count": 3,
   "metadata": {},
   "outputs": [
    {
     "data": {
      "text/html": [
       "<div>\n",
       "<style scoped>\n",
       "    .dataframe tbody tr th:only-of-type {\n",
       "        vertical-align: middle;\n",
       "    }\n",
       "\n",
       "    .dataframe tbody tr th {\n",
       "        vertical-align: top;\n",
       "    }\n",
       "\n",
       "    .dataframe thead th {\n",
       "        text-align: right;\n",
       "    }\n",
       "</style>\n",
       "<table border=\"1\" class=\"dataframe\">\n",
       "  <thead>\n",
       "    <tr style=\"text-align: right;\">\n",
       "      <th></th>\n",
       "      <th>id</th>\n",
       "      <th>player_fifa_api_id</th>\n",
       "      <th>player_api_id</th>\n",
       "      <th>date</th>\n",
       "      <th>overall_rating</th>\n",
       "      <th>potential</th>\n",
       "      <th>preferred_foot</th>\n",
       "      <th>attacking_work_rate</th>\n",
       "      <th>defensive_work_rate</th>\n",
       "      <th>crossing</th>\n",
       "      <th>...</th>\n",
       "      <th>vision</th>\n",
       "      <th>penalties</th>\n",
       "      <th>marking</th>\n",
       "      <th>standing_tackle</th>\n",
       "      <th>sliding_tackle</th>\n",
       "      <th>gk_diving</th>\n",
       "      <th>gk_handling</th>\n",
       "      <th>gk_kicking</th>\n",
       "      <th>gk_positioning</th>\n",
       "      <th>gk_reflexes</th>\n",
       "    </tr>\n",
       "  </thead>\n",
       "  <tbody>\n",
       "    <tr>\n",
       "      <th>0</th>\n",
       "      <td>1</td>\n",
       "      <td>218353</td>\n",
       "      <td>505942</td>\n",
       "      <td>2016-02-18 00:00:00</td>\n",
       "      <td>67.0</td>\n",
       "      <td>71.0</td>\n",
       "      <td>right</td>\n",
       "      <td>medium</td>\n",
       "      <td>medium</td>\n",
       "      <td>49.0</td>\n",
       "      <td>...</td>\n",
       "      <td>54.0</td>\n",
       "      <td>48.0</td>\n",
       "      <td>65.0</td>\n",
       "      <td>69.0</td>\n",
       "      <td>69.0</td>\n",
       "      <td>6.0</td>\n",
       "      <td>11.0</td>\n",
       "      <td>10.0</td>\n",
       "      <td>8.0</td>\n",
       "      <td>8.0</td>\n",
       "    </tr>\n",
       "    <tr>\n",
       "      <th>1</th>\n",
       "      <td>2</td>\n",
       "      <td>218353</td>\n",
       "      <td>505942</td>\n",
       "      <td>2015-11-19 00:00:00</td>\n",
       "      <td>67.0</td>\n",
       "      <td>71.0</td>\n",
       "      <td>right</td>\n",
       "      <td>medium</td>\n",
       "      <td>medium</td>\n",
       "      <td>49.0</td>\n",
       "      <td>...</td>\n",
       "      <td>54.0</td>\n",
       "      <td>48.0</td>\n",
       "      <td>65.0</td>\n",
       "      <td>69.0</td>\n",
       "      <td>69.0</td>\n",
       "      <td>6.0</td>\n",
       "      <td>11.0</td>\n",
       "      <td>10.0</td>\n",
       "      <td>8.0</td>\n",
       "      <td>8.0</td>\n",
       "    </tr>\n",
       "    <tr>\n",
       "      <th>2</th>\n",
       "      <td>3</td>\n",
       "      <td>218353</td>\n",
       "      <td>505942</td>\n",
       "      <td>2015-09-21 00:00:00</td>\n",
       "      <td>62.0</td>\n",
       "      <td>66.0</td>\n",
       "      <td>right</td>\n",
       "      <td>medium</td>\n",
       "      <td>medium</td>\n",
       "      <td>49.0</td>\n",
       "      <td>...</td>\n",
       "      <td>54.0</td>\n",
       "      <td>48.0</td>\n",
       "      <td>65.0</td>\n",
       "      <td>66.0</td>\n",
       "      <td>69.0</td>\n",
       "      <td>6.0</td>\n",
       "      <td>11.0</td>\n",
       "      <td>10.0</td>\n",
       "      <td>8.0</td>\n",
       "      <td>8.0</td>\n",
       "    </tr>\n",
       "    <tr>\n",
       "      <th>3</th>\n",
       "      <td>4</td>\n",
       "      <td>218353</td>\n",
       "      <td>505942</td>\n",
       "      <td>2015-03-20 00:00:00</td>\n",
       "      <td>61.0</td>\n",
       "      <td>65.0</td>\n",
       "      <td>right</td>\n",
       "      <td>medium</td>\n",
       "      <td>medium</td>\n",
       "      <td>48.0</td>\n",
       "      <td>...</td>\n",
       "      <td>53.0</td>\n",
       "      <td>47.0</td>\n",
       "      <td>62.0</td>\n",
       "      <td>63.0</td>\n",
       "      <td>66.0</td>\n",
       "      <td>5.0</td>\n",
       "      <td>10.0</td>\n",
       "      <td>9.0</td>\n",
       "      <td>7.0</td>\n",
       "      <td>7.0</td>\n",
       "    </tr>\n",
       "    <tr>\n",
       "      <th>4</th>\n",
       "      <td>5</td>\n",
       "      <td>218353</td>\n",
       "      <td>505942</td>\n",
       "      <td>2007-02-22 00:00:00</td>\n",
       "      <td>61.0</td>\n",
       "      <td>65.0</td>\n",
       "      <td>right</td>\n",
       "      <td>medium</td>\n",
       "      <td>medium</td>\n",
       "      <td>48.0</td>\n",
       "      <td>...</td>\n",
       "      <td>53.0</td>\n",
       "      <td>47.0</td>\n",
       "      <td>62.0</td>\n",
       "      <td>63.0</td>\n",
       "      <td>66.0</td>\n",
       "      <td>5.0</td>\n",
       "      <td>10.0</td>\n",
       "      <td>9.0</td>\n",
       "      <td>7.0</td>\n",
       "      <td>7.0</td>\n",
       "    </tr>\n",
       "  </tbody>\n",
       "</table>\n",
       "<p>5 rows × 42 columns</p>\n",
       "</div>"
      ],
      "text/plain": [
       "   id  player_fifa_api_id  player_api_id                 date  overall_rating  \\\n",
       "0   1              218353         505942  2016-02-18 00:00:00            67.0   \n",
       "1   2              218353         505942  2015-11-19 00:00:00            67.0   \n",
       "2   3              218353         505942  2015-09-21 00:00:00            62.0   \n",
       "3   4              218353         505942  2015-03-20 00:00:00            61.0   \n",
       "4   5              218353         505942  2007-02-22 00:00:00            61.0   \n",
       "\n",
       "   potential preferred_foot attacking_work_rate defensive_work_rate  crossing  \\\n",
       "0       71.0          right              medium              medium      49.0   \n",
       "1       71.0          right              medium              medium      49.0   \n",
       "2       66.0          right              medium              medium      49.0   \n",
       "3       65.0          right              medium              medium      48.0   \n",
       "4       65.0          right              medium              medium      48.0   \n",
       "\n",
       "   ...  vision  penalties  marking  standing_tackle  sliding_tackle  \\\n",
       "0  ...    54.0       48.0     65.0             69.0            69.0   \n",
       "1  ...    54.0       48.0     65.0             69.0            69.0   \n",
       "2  ...    54.0       48.0     65.0             66.0            69.0   \n",
       "3  ...    53.0       47.0     62.0             63.0            66.0   \n",
       "4  ...    53.0       47.0     62.0             63.0            66.0   \n",
       "\n",
       "   gk_diving  gk_handling  gk_kicking  gk_positioning  gk_reflexes  \n",
       "0        6.0         11.0        10.0             8.0          8.0  \n",
       "1        6.0         11.0        10.0             8.0          8.0  \n",
       "2        6.0         11.0        10.0             8.0          8.0  \n",
       "3        5.0         10.0         9.0             7.0          7.0  \n",
       "4        5.0         10.0         9.0             7.0          7.0  \n",
       "\n",
       "[5 rows x 42 columns]"
      ]
     },
     "execution_count": 3,
     "metadata": {},
     "output_type": "execute_result"
    }
   ],
   "source": [
    "df.head()"
   ]
  },
  {
   "cell_type": "code",
   "execution_count": 4,
   "metadata": {
    "scrolled": true
   },
   "outputs": [
    {
     "name": "stdout",
     "output_type": "stream",
     "text": [
      "<class 'pandas.core.frame.DataFrame'>\n",
      "RangeIndex: 183978 entries, 0 to 183977\n",
      "Data columns (total 42 columns):\n",
      " #   Column               Non-Null Count   Dtype  \n",
      "---  ------               --------------   -----  \n",
      " 0   id                   183978 non-null  int64  \n",
      " 1   player_fifa_api_id   183978 non-null  int64  \n",
      " 2   player_api_id        183978 non-null  int64  \n",
      " 3   date                 183978 non-null  object \n",
      " 4   overall_rating       183142 non-null  float64\n",
      " 5   potential            183142 non-null  float64\n",
      " 6   preferred_foot       183142 non-null  object \n",
      " 7   attacking_work_rate  180748 non-null  object \n",
      " 8   defensive_work_rate  183142 non-null  object \n",
      " 9   crossing             183142 non-null  float64\n",
      " 10  finishing            183142 non-null  float64\n",
      " 11  heading_accuracy     183142 non-null  float64\n",
      " 12  short_passing        183142 non-null  float64\n",
      " 13  volleys              181265 non-null  float64\n",
      " 14  dribbling            183142 non-null  float64\n",
      " 15  curve                181265 non-null  float64\n",
      " 16  free_kick_accuracy   183142 non-null  float64\n",
      " 17  long_passing         183142 non-null  float64\n",
      " 18  ball_control         183142 non-null  float64\n",
      " 19  acceleration         183142 non-null  float64\n",
      " 20  sprint_speed         183142 non-null  float64\n",
      " 21  agility              181265 non-null  float64\n",
      " 22  reactions            183142 non-null  float64\n",
      " 23  balance              181265 non-null  float64\n",
      " 24  shot_power           183142 non-null  float64\n",
      " 25  jumping              181265 non-null  float64\n",
      " 26  stamina              183142 non-null  float64\n",
      " 27  strength             183142 non-null  float64\n",
      " 28  long_shots           183142 non-null  float64\n",
      " 29  aggression           183142 non-null  float64\n",
      " 30  interceptions        183142 non-null  float64\n",
      " 31  positioning          183142 non-null  float64\n",
      " 32  vision               181265 non-null  float64\n",
      " 33  penalties            183142 non-null  float64\n",
      " 34  marking              183142 non-null  float64\n",
      " 35  standing_tackle      183142 non-null  float64\n",
      " 36  sliding_tackle       181265 non-null  float64\n",
      " 37  gk_diving            183142 non-null  float64\n",
      " 38  gk_handling          183142 non-null  float64\n",
      " 39  gk_kicking           183142 non-null  float64\n",
      " 40  gk_positioning       183142 non-null  float64\n",
      " 41  gk_reflexes          183142 non-null  float64\n",
      "dtypes: float64(35), int64(3), object(4)\n",
      "memory usage: 59.0+ MB\n"
     ]
    }
   ],
   "source": [
    "df.info()"
   ]
  },
  {
   "cell_type": "markdown",
   "metadata": {},
   "source": [
    "# EDA (Exploratory Data Analysis)"
   ]
  },
  {
   "cell_type": "code",
   "execution_count": 5,
   "metadata": {},
   "outputs": [],
   "source": [
    "# WE can delete ID and date column as it doesn't effect on the output\n",
    "df.drop(['id','player_fifa_api_id','player_api_id','date'], axis=1, inplace=True)"
   ]
  },
  {
   "cell_type": "code",
   "execution_count": 6,
   "metadata": {
    "scrolled": false
   },
   "outputs": [
    {
     "name": "stdout",
     "output_type": "stream",
     "text": [
      "<class 'pandas.core.frame.DataFrame'>\n",
      "RangeIndex: 183978 entries, 0 to 183977\n",
      "Data columns (total 38 columns):\n",
      " #   Column               Non-Null Count   Dtype  \n",
      "---  ------               --------------   -----  \n",
      " 0   overall_rating       183142 non-null  float64\n",
      " 1   potential            183142 non-null  float64\n",
      " 2   preferred_foot       183142 non-null  object \n",
      " 3   attacking_work_rate  180748 non-null  object \n",
      " 4   defensive_work_rate  183142 non-null  object \n",
      " 5   crossing             183142 non-null  float64\n",
      " 6   finishing            183142 non-null  float64\n",
      " 7   heading_accuracy     183142 non-null  float64\n",
      " 8   short_passing        183142 non-null  float64\n",
      " 9   volleys              181265 non-null  float64\n",
      " 10  dribbling            183142 non-null  float64\n",
      " 11  curve                181265 non-null  float64\n",
      " 12  free_kick_accuracy   183142 non-null  float64\n",
      " 13  long_passing         183142 non-null  float64\n",
      " 14  ball_control         183142 non-null  float64\n",
      " 15  acceleration         183142 non-null  float64\n",
      " 16  sprint_speed         183142 non-null  float64\n",
      " 17  agility              181265 non-null  float64\n",
      " 18  reactions            183142 non-null  float64\n",
      " 19  balance              181265 non-null  float64\n",
      " 20  shot_power           183142 non-null  float64\n",
      " 21  jumping              181265 non-null  float64\n",
      " 22  stamina              183142 non-null  float64\n",
      " 23  strength             183142 non-null  float64\n",
      " 24  long_shots           183142 non-null  float64\n",
      " 25  aggression           183142 non-null  float64\n",
      " 26  interceptions        183142 non-null  float64\n",
      " 27  positioning          183142 non-null  float64\n",
      " 28  vision               181265 non-null  float64\n",
      " 29  penalties            183142 non-null  float64\n",
      " 30  marking              183142 non-null  float64\n",
      " 31  standing_tackle      183142 non-null  float64\n",
      " 32  sliding_tackle       181265 non-null  float64\n",
      " 33  gk_diving            183142 non-null  float64\n",
      " 34  gk_handling          183142 non-null  float64\n",
      " 35  gk_kicking           183142 non-null  float64\n",
      " 36  gk_positioning       183142 non-null  float64\n",
      " 37  gk_reflexes          183142 non-null  float64\n",
      "dtypes: float64(35), object(3)\n",
      "memory usage: 53.3+ MB\n"
     ]
    }
   ],
   "source": [
    "df.info()"
   ]
  },
  {
   "cell_type": "markdown",
   "metadata": {},
   "source": [
    "## Handling Missing Data"
   ]
  },
  {
   "cell_type": "code",
   "execution_count": 7,
   "metadata": {},
   "outputs": [
    {
     "data": {
      "text/plain": [
       "Int64Index([   483,    983,   1752,   2089,   2482,   2498,   2540,   3283,\n",
       "              4006,   4202,\n",
       "            ...\n",
       "            180806, 180905, 181115, 181888, 182208, 182587, 183249, 183309,\n",
       "            183361, 183487],\n",
       "           dtype='int64', length=836)"
      ]
     },
     "execution_count": 7,
     "metadata": {},
     "output_type": "execute_result"
    }
   ],
   "source": [
    "#Get the index of those missing observations in label\n",
    "miss_overall = df[df[\"overall_rating\"].isnull()].index\n",
    "miss_overall"
   ]
  },
  {
   "cell_type": "code",
   "execution_count": 8,
   "metadata": {},
   "outputs": [
    {
     "name": "stdout",
     "output_type": "stream",
     "text": [
      "Total observations: 183978\n",
      "Total Mising labels: 836\n"
     ]
    }
   ],
   "source": [
    "Total_observation = len(df['overall_rating'])\n",
    "Total_missing = len(miss_overall)\n",
    "print(f\"Total observations: {Total_observation}\")\n",
    "print(f\"Total Mising labels: {Total_missing}\")"
   ]
  },
  {
   "cell_type": "code",
   "execution_count": 9,
   "metadata": {
    "scrolled": true
   },
   "outputs": [
    {
     "data": {
      "image/png": "[encoded data removed]",
      "text/plain": [
       "<Figure size 432x432 with 1 Axes>"
      ]
     },
     "metadata": {},
     "output_type": "display_data"
    }
   ],
   "source": [
    "#Visualization of total missing labels\n",
    "plt.figure(figsize=(6,6))\n",
    "dat = (Total_observation,Total_missing)\n",
    "expo = (0,0.6)\n",
    "lab = ['Total_observations','Total_missing_Labels']\n",
    "plt.pie(dat, autopct='%.2f',explode=expo)\n",
    "plt.legend(lab)\n",
    "plt.show()"
   ]
  },
  {
   "cell_type": "markdown",
   "metadata": {},
   "source": [
    "Since the missing labels are only 0.45%, I'm deleting all the missing observations of the label data."
   ]
  },
  {
   "cell_type": "code",
   "execution_count": 10,
   "metadata": {},
   "outputs": [],
   "source": [
    "#Deleting the observations which doesn't have label\n",
    "df.drop(df[df[\"overall_rating\"].isnull()].index, axis=0, inplace=True)"
   ]
  },
  {
   "cell_type": "code",
   "execution_count": 11,
   "metadata": {
    "scrolled": false
   },
   "outputs": [
    {
     "name": "stdout",
     "output_type": "stream",
     "text": [
      "<class 'pandas.core.frame.DataFrame'>\n",
      "Int64Index: 183142 entries, 0 to 183977\n",
      "Data columns (total 38 columns):\n",
      " #   Column               Non-Null Count   Dtype  \n",
      "---  ------               --------------   -----  \n",
      " 0   overall_rating       183142 non-null  float64\n",
      " 1   potential            183142 non-null  float64\n",
      " 2   preferred_foot       183142 non-null  object \n",
      " 3   attacking_work_rate  180748 non-null  object \n",
      " 4   defensive_work_rate  183142 non-null  object \n",
      " 5   crossing             183142 non-null  float64\n",
      " 6   finishing            183142 non-null  float64\n",
      " 7   heading_accuracy     183142 non-null  float64\n",
      " 8   short_passing        183142 non-null  float64\n",
      " 9   volleys              181265 non-null  float64\n",
      " 10  dribbling            183142 non-null  float64\n",
      " 11  curve                181265 non-null  float64\n",
      " 12  free_kick_accuracy   183142 non-null  float64\n",
      " 13  long_passing         183142 non-null  float64\n",
      " 14  ball_control         183142 non-null  float64\n",
      " 15  acceleration         183142 non-null  float64\n",
      " 16  sprint_speed         183142 non-null  float64\n",
      " 17  agility              181265 non-null  float64\n",
      " 18  reactions            183142 non-null  float64\n",
      " 19  balance              181265 non-null  float64\n",
      " 20  shot_power           183142 non-null  float64\n",
      " 21  jumping              181265 non-null  float64\n",
      " 22  stamina              183142 non-null  float64\n",
      " 23  strength             183142 non-null  float64\n",
      " 24  long_shots           183142 non-null  float64\n",
      " 25  aggression           183142 non-null  float64\n",
      " 26  interceptions        183142 non-null  float64\n",
      " 27  positioning          183142 non-null  float64\n",
      " 28  vision               181265 non-null  float64\n",
      " 29  penalties            183142 non-null  float64\n",
      " 30  marking              183142 non-null  float64\n",
      " 31  standing_tackle      183142 non-null  float64\n",
      " 32  sliding_tackle       181265 non-null  float64\n",
      " 33  gk_diving            183142 non-null  float64\n",
      " 34  gk_handling          183142 non-null  float64\n",
      " 35  gk_kicking           183142 non-null  float64\n",
      " 36  gk_positioning       183142 non-null  float64\n",
      " 37  gk_reflexes          183142 non-null  float64\n",
      "dtypes: float64(35), object(3)\n",
      "memory usage: 54.5+ MB\n"
     ]
    }
   ],
   "source": [
    "df.info()"
   ]
  },
  {
   "cell_type": "code",
   "execution_count": 12,
   "metadata": {
    "scrolled": true
   },
   "outputs": [
    {
     "data": {
      "image/png": "[encoded data removed]",
      "text/plain": [
       "<Figure size 1296x1296 with 36 Axes>"
      ]
     },
     "metadata": {
      "needs_background": "light"
     },
     "output_type": "display_data"
    }
   ],
   "source": [
    "#Visualization of the distribustion of the data\n",
    "df.hist(bins=70, figsize=(18,18))\n",
    "plt.show()"
   ]
  },
  {
   "cell_type": "markdown",
   "metadata": {},
   "source": [
    "Taking few columns to visualize how the data is distrucuted and check if any outliers present in it."
   ]
  },
  {
   "cell_type": "code",
   "execution_count": 13,
   "metadata": {
    "scrolled": true
   },
   "outputs": [
    {
     "data": {
      "image/png": "[encoded data removed]",
      "text/plain": [
       "<Figure size 432x288 with 1 Axes>"
      ]
     },
     "metadata": {
      "needs_background": "light"
     },
     "output_type": "display_data"
    }
   ],
   "source": [
    "#Disatribution of VISION column\n",
    "sns.distplot(df['vision'])\n",
    "plt.show()"
   ]
  },
  {
   "cell_type": "code",
   "execution_count": 14,
   "metadata": {
    "scrolled": true
   },
   "outputs": [
    {
     "data": {
      "image/png": "[encoded data removed]",
      "text/plain": [
       "<Figure size 432x288 with 1 Axes>"
      ]
     },
     "metadata": {
      "needs_background": "light"
     },
     "output_type": "display_data"
    }
   ],
   "source": [
    "#Box plot pf VISION column\n",
    "sns.boxplot(df['vision'])\n",
    "plt.show()"
   ]
  },
  {
   "cell_type": "markdown",
   "metadata": {},
   "source": [
    "Tha VISION column contains outliers and we need to handle the outliers to bring the data into normal distribution."
   ]
  },
  {
   "cell_type": "code",
   "execution_count": 15,
   "metadata": {},
   "outputs": [
    {
     "data": {
      "text/plain": [
       "57.873549775191016"
      ]
     },
     "execution_count": 15,
     "metadata": {},
     "output_type": "execute_result"
    }
   ],
   "source": [
    "#Mean of the column before removing the outliers\n",
    "df.vision.mean()"
   ]
  },
  {
   "cell_type": "code",
   "execution_count": 16,
   "metadata": {
    "scrolled": false
   },
   "outputs": [
    {
     "data": {
      "text/plain": [
       "count    181265.000000\n",
       "mean         57.873550\n",
       "std          15.144086\n",
       "min           1.000000\n",
       "25%          49.000000\n",
       "50%          60.000000\n",
       "75%          69.000000\n",
       "max          97.000000\n",
       "Name: vision, dtype: float64"
      ]
     },
     "execution_count": 16,
     "metadata": {},
     "output_type": "execute_result"
    }
   ],
   "source": [
    "df.vision.describe()"
   ]
  },
  {
   "cell_type": "code",
   "execution_count": 17,
   "metadata": {},
   "outputs": [],
   "source": [
    "#Function that can detect outlier \n",
    "def outlier(datacolumn):\n",
    "    #Sort the data in assending order\n",
    "    sorted(datacolumn)\n",
    "    # First quantile \n",
    "    Q1 = datacolumn.quantile(0.25)\n",
    "    #Third Quantile\n",
    "    Q3 = datacolumn.quantile(0.75)\n",
    "    #Inter Quantile Range\n",
    "    IQR = (Q3-Q1)\n",
    "    #Lower Quantile \n",
    "    LowerQuantile = Q1-(IQR*1.5)\n",
    "    #Upper Quantile\n",
    "    UpperQuantile = Q3+(IQR*1.5)\n",
    "    return LowerQuantile, UpperQuantile"
   ]
  },
  {
   "cell_type": "code",
   "execution_count": 20,
   "metadata": {
    "scrolled": true
   },
   "outputs": [],
   "source": [
    "#Apply the outlier function on all the numerical columns of the dataset\n",
    "for c in df.columns:\n",
    "    if not df[c].dtype=='object':\n",
    "        lr, ur = outlier(df[c])\n",
    "        #Replace the outliers with the mean of the column\n",
    "        df.loc[(df[c]<lr) | (df[c]>ur), c] = df[c].mean()\n",
    "        #print(f'{c} : lr={lr}, ur={ur}')"
   ]
  },
  {
   "cell_type": "code",
   "execution_count": 22,
   "metadata": {
    "scrolled": true
   },
   "outputs": [
    {
     "data": {
      "image/png": "[encoded data removed]",
      "text/plain": [
       "<Figure size 432x288 with 1 Axes>"
      ]
     },
     "metadata": {
      "needs_background": "light"
     },
     "output_type": "display_data"
    }
   ],
   "source": [
    "#Box plot of VISION column after I removed the outliers.\n",
    "sns.boxplot(df.vision)\n",
    "plt.show()"
   ]
  },
  {
   "cell_type": "code",
   "execution_count": 23,
   "metadata": {
    "scrolled": false
   },
   "outputs": [
    {
     "data": {
      "image/png": "[encoded data removed]",
      "text/plain": [
       "<Figure size 432x288 with 1 Axes>"
      ]
     },
     "metadata": {
      "needs_background": "light"
     },
     "output_type": "display_data"
    }
   ],
   "source": [
    "#Distribution of VISION column\n",
    "sns.distplot(df.vision)\n",
    "plt.show()"
   ]
  },
  {
   "cell_type": "code",
   "execution_count": 24,
   "metadata": {},
   "outputs": [],
   "source": [
    "#Defining a function to check if there any missing data in features\n",
    "def missing(data):\n",
    "    for col in data.columns:\n",
    "        if data[col].isnull().any():\n",
    "            print(f\"There are {data[col].isnull().sum()} in {col}, Data type {data[col].dtype}\")\n",
    "    else:\n",
    "        print(\"There are no missing data\")"
   ]
  },
  {
   "cell_type": "code",
   "execution_count": 25,
   "metadata": {
    "scrolled": true
   },
   "outputs": [
    {
     "name": "stdout",
     "output_type": "stream",
     "text": [
      "There are 2394 in attacking_work_rate, Data type object\n",
      "There are 1877 in volleys, Data type float64\n",
      "There are 1877 in curve, Data type float64\n",
      "There are 1877 in agility, Data type float64\n",
      "There are 1877 in balance, Data type float64\n",
      "There are 1877 in jumping, Data type float64\n",
      "There are 1877 in vision, Data type float64\n",
      "There are 1877 in sliding_tackle, Data type float64\n",
      "There are no missing data\n"
     ]
    }
   ],
   "source": [
    "#Apply the function on the datset\n",
    "missing(df)"
   ]
  },
  {
   "cell_type": "code",
   "execution_count": 26,
   "metadata": {},
   "outputs": [
    {
     "data": {
      "text/plain": [
       "medium    125070\n",
       "high       42823\n",
       "low         8569\n",
       "None        3639\n",
       "norm         348\n",
       "y            106\n",
       "le           104\n",
       "stoc          89\n",
       "Name: attacking_work_rate, dtype: int64"
      ]
     },
     "execution_count": 26,
     "metadata": {},
     "output_type": "execute_result"
    }
   ],
   "source": [
    "#Handling categorical columns\n",
    "df['attacking_work_rate'].value_counts()"
   ]
  },
  {
   "cell_type": "code",
   "execution_count": 27,
   "metadata": {},
   "outputs": [
    {
     "data": {
      "text/plain": [
       "0    medium\n",
       "dtype: object"
      ]
     },
     "execution_count": 27,
     "metadata": {},
     "output_type": "execute_result"
    }
   ],
   "source": [
    "#Mode of the column is,\n",
    "df['attacking_work_rate'].mode()"
   ]
  },
  {
   "cell_type": "code",
   "execution_count": 28,
   "metadata": {},
   "outputs": [],
   "source": [
    "#Filling the missing observations of 'attacking_work_rate' with the mode of the column.\n",
    "df['attacking_work_rate'].fillna(df['attacking_work_rate'].mode()[0], inplace=True)"
   ]
  },
  {
   "cell_type": "code",
   "execution_count": 29,
   "metadata": {},
   "outputs": [],
   "source": [
    "#Selecting the remaining numeric columns \n",
    "col = ('volleys','curve','agility','balance','jumping','vision','sliding_tackle')"
   ]
  },
  {
   "cell_type": "code",
   "execution_count": 30,
   "metadata": {},
   "outputs": [],
   "source": [
    "#Filling the missing observations of the numeric columns with their 'Mean' using Sci-kit learn package.\n",
    "from sklearn.impute import SimpleImputer\n",
    "miss = SimpleImputer(missing_values=np.nan, strategy='mean')\n",
    "df.loc[:,(col)] = miss.fit_transform(df.loc[:,(col)])"
   ]
  },
  {
   "cell_type": "code",
   "execution_count": 31,
   "metadata": {},
   "outputs": [
    {
     "name": "stdout",
     "output_type": "stream",
     "text": [
      "There are no missing data\n"
     ]
    }
   ],
   "source": [
    "#Cross checking for any missing observations in the data\n",
    "missing(df)"
   ]
  },
  {
   "cell_type": "markdown",
   "metadata": {},
   "source": [
    "### Handling the categorical columns."
   ]
  },
  {
   "cell_type": "code",
   "execution_count": 32,
   "metadata": {},
   "outputs": [
    {
     "data": {
      "text/plain": [
       "right    138409\n",
       "left      44733\n",
       "Name: preferred_foot, dtype: int64"
      ]
     },
     "execution_count": 32,
     "metadata": {},
     "output_type": "execute_result"
    }
   ],
   "source": [
    "df['preferred_foot'].value_counts()"
   ]
  },
  {
   "cell_type": "code",
   "execution_count": 33,
   "metadata": {
    "scrolled": false
   },
   "outputs": [
    {
     "data": {
      "text/plain": [
       "medium    127464\n",
       "high       42823\n",
       "low         8569\n",
       "None        3639\n",
       "norm         348\n",
       "y            106\n",
       "le           104\n",
       "stoc          89\n",
       "Name: attacking_work_rate, dtype: int64"
      ]
     },
     "execution_count": 33,
     "metadata": {},
     "output_type": "execute_result"
    }
   ],
   "source": [
    "#What is attacking Work Rate (AWR) ?\n",
    "# - How a player participates in attacks. Rated as low, medium and high.\n",
    "df['attacking_work_rate'].value_counts()"
   ]
  },
  {
   "cell_type": "markdown",
   "metadata": {},
   "source": [
    "As per the domine, attacking_work_rate and defensive_work_rate can only be categorised as Low, Medium and High. Therefore, I'm going replace other categories as Low,Medium or High"
   ]
  },
  {
   "cell_type": "code",
   "execution_count": 34,
   "metadata": {},
   "outputs": [],
   "source": [
    "#Replacing the unwated data\n",
    "df['attacking_work_rate'].replace({'None':'low','norm':'medium','le':'low','y':'high','stoc':'medium'}, inplace=True)"
   ]
  },
  {
   "cell_type": "code",
   "execution_count": 35,
   "metadata": {},
   "outputs": [
    {
     "data": {
      "text/plain": [
       "medium    127901\n",
       "high       42929\n",
       "low        12312\n",
       "Name: attacking_work_rate, dtype: int64"
      ]
     },
     "execution_count": 35,
     "metadata": {},
     "output_type": "execute_result"
    }
   ],
   "source": [
    "df['attacking_work_rate'].value_counts()"
   ]
  },
  {
   "cell_type": "code",
   "execution_count": 36,
   "metadata": {},
   "outputs": [
    {
     "data": {
      "image/png": "[encoded data removed]",
      "text/plain": [
       "<Figure size 432x432 with 1 Axes>"
      ]
     },
     "metadata": {},
     "output_type": "display_data"
    }
   ],
   "source": [
    "#visualization of the proportion of different attacking_work_rates\n",
    "plt.figure(figsize=(6,6))\n",
    "dat = (df['attacking_work_rate'].value_counts())\n",
    "expo = (0,0.1,0.2)\n",
    "lab = ['Medium','High','Low']\n",
    "plt.pie(dat, autopct='%.2f',explode=expo)\n",
    "plt.title(\"Proportion of different attacking_work_rates\")\n",
    "plt.legend(lab)\n",
    "plt.show()"
   ]
  },
  {
   "cell_type": "code",
   "execution_count": 37,
   "metadata": {
    "scrolled": true
   },
   "outputs": [
    {
     "data": {
      "text/plain": [
       "medium    130846\n",
       "high       27041\n",
       "low        18432\n",
       "_0          2394\n",
       "o           1550\n",
       "1            441\n",
       "ormal        348\n",
       "2            342\n",
       "3            258\n",
       "5            234\n",
       "7            217\n",
       "6            197\n",
       "0            197\n",
       "9            152\n",
       "4            116\n",
       "es           106\n",
       "ean          104\n",
       "tocky         89\n",
       "8             78\n",
       "Name: defensive_work_rate, dtype: int64"
      ]
     },
     "execution_count": 37,
     "metadata": {},
     "output_type": "execute_result"
    }
   ],
   "source": [
    "#What is Defensive Work Rate (DWR) ?\n",
    "# - How a player participates in defensive plays. Rated as low, medium and high.\n",
    "df['defensive_work_rate'].value_counts()"
   ]
  },
  {
   "cell_type": "markdown",
   "metadata": {},
   "source": [
    "Replcating the other data in 'defensive_work_rate' which is out of domine with the required categories."
   ]
  },
  {
   "cell_type": "code",
   "execution_count": 38,
   "metadata": {},
   "outputs": [],
   "source": [
    "#Replacing the data that is out of domine.\n",
    "df['defensive_work_rate'].replace({'_0':'low',\n",
    "                                   'o':'low','1':'low','ormal':'medium',\n",
    "                                   '2':'low','3':'low','5':'medium','7':'medium',\n",
    "                                   '0':'low','6':'medium','9':'high','4':'medium',\n",
    "                                  'es':'high','ean':'high','tocky':'high','8':'high'}, inplace=True)"
   ]
  },
  {
   "cell_type": "code",
   "execution_count": 39,
   "metadata": {},
   "outputs": [
    {
     "data": {
      "text/plain": [
       "medium    131958\n",
       "high       27570\n",
       "low        23614\n",
       "Name: defensive_work_rate, dtype: int64"
      ]
     },
     "execution_count": 39,
     "metadata": {},
     "output_type": "execute_result"
    }
   ],
   "source": [
    "#Final data categories\n",
    "df['defensive_work_rate'].value_counts()"
   ]
  },
  {
   "cell_type": "code",
   "execution_count": 40,
   "metadata": {},
   "outputs": [
    {
     "data": {
      "image/png": "[encoded data removed]",
      "text/plain": [
       "<Figure size 432x432 with 1 Axes>"
      ]
     },
     "metadata": {},
     "output_type": "display_data"
    }
   ],
   "source": [
    "#Visualization of the proportion of different 'defensive_work_rate'\n",
    "dat = df['defensive_work_rate'].value_counts()\n",
    "plt.figure(figsize=(6,6))\n",
    "ex = (0,0.05,0.08)\n",
    "labe = ['Medium','High','Low']\n",
    "plt.pie(dat, explode=ex,labels=labe, autopct='%.2f')\n",
    "plt.title(\"Proportion of different 'defensive_work_rate'\")\n",
    "plt.legend()\n",
    "plt.show()"
   ]
  },
  {
   "cell_type": "code",
   "execution_count": 41,
   "metadata": {},
   "outputs": [
    {
     "data": {
      "text/html": [
       "<div>\n",
       "<style scoped>\n",
       "    .dataframe tbody tr th:only-of-type {\n",
       "        vertical-align: middle;\n",
       "    }\n",
       "\n",
       "    .dataframe tbody tr th {\n",
       "        vertical-align: top;\n",
       "    }\n",
       "\n",
       "    .dataframe thead th {\n",
       "        text-align: right;\n",
       "    }\n",
       "</style>\n",
       "<table border=\"1\" class=\"dataframe\">\n",
       "  <thead>\n",
       "    <tr style=\"text-align: right;\">\n",
       "      <th></th>\n",
       "      <th>overall_rating</th>\n",
       "      <th>potential</th>\n",
       "      <th>crossing</th>\n",
       "      <th>finishing</th>\n",
       "      <th>heading_accuracy</th>\n",
       "      <th>short_passing</th>\n",
       "      <th>volleys</th>\n",
       "      <th>dribbling</th>\n",
       "      <th>curve</th>\n",
       "      <th>free_kick_accuracy</th>\n",
       "      <th>...</th>\n",
       "      <th>gk_positioning</th>\n",
       "      <th>gk_reflexes</th>\n",
       "      <th>preferred_foot_left</th>\n",
       "      <th>preferred_foot_right</th>\n",
       "      <th>attacking_work_rate_high</th>\n",
       "      <th>attacking_work_rate_low</th>\n",
       "      <th>attacking_work_rate_medium</th>\n",
       "      <th>defensive_work_rate_high</th>\n",
       "      <th>defensive_work_rate_low</th>\n",
       "      <th>defensive_work_rate_medium</th>\n",
       "    </tr>\n",
       "  </thead>\n",
       "  <tbody>\n",
       "    <tr>\n",
       "      <th>0</th>\n",
       "      <td>67.0</td>\n",
       "      <td>71.0</td>\n",
       "      <td>49.0</td>\n",
       "      <td>44.0</td>\n",
       "      <td>71.0</td>\n",
       "      <td>61.0</td>\n",
       "      <td>44.0</td>\n",
       "      <td>51.0</td>\n",
       "      <td>45.0</td>\n",
       "      <td>39.0</td>\n",
       "      <td>...</td>\n",
       "      <td>8.0</td>\n",
       "      <td>8.0</td>\n",
       "      <td>0</td>\n",
       "      <td>1</td>\n",
       "      <td>0</td>\n",
       "      <td>0</td>\n",
       "      <td>1</td>\n",
       "      <td>0</td>\n",
       "      <td>0</td>\n",
       "      <td>1</td>\n",
       "    </tr>\n",
       "    <tr>\n",
       "      <th>1</th>\n",
       "      <td>67.0</td>\n",
       "      <td>71.0</td>\n",
       "      <td>49.0</td>\n",
       "      <td>44.0</td>\n",
       "      <td>71.0</td>\n",
       "      <td>61.0</td>\n",
       "      <td>44.0</td>\n",
       "      <td>51.0</td>\n",
       "      <td>45.0</td>\n",
       "      <td>39.0</td>\n",
       "      <td>...</td>\n",
       "      <td>8.0</td>\n",
       "      <td>8.0</td>\n",
       "      <td>0</td>\n",
       "      <td>1</td>\n",
       "      <td>0</td>\n",
       "      <td>0</td>\n",
       "      <td>1</td>\n",
       "      <td>0</td>\n",
       "      <td>0</td>\n",
       "      <td>1</td>\n",
       "    </tr>\n",
       "    <tr>\n",
       "      <th>2</th>\n",
       "      <td>62.0</td>\n",
       "      <td>66.0</td>\n",
       "      <td>49.0</td>\n",
       "      <td>44.0</td>\n",
       "      <td>71.0</td>\n",
       "      <td>61.0</td>\n",
       "      <td>44.0</td>\n",
       "      <td>51.0</td>\n",
       "      <td>45.0</td>\n",
       "      <td>39.0</td>\n",
       "      <td>...</td>\n",
       "      <td>8.0</td>\n",
       "      <td>8.0</td>\n",
       "      <td>0</td>\n",
       "      <td>1</td>\n",
       "      <td>0</td>\n",
       "      <td>0</td>\n",
       "      <td>1</td>\n",
       "      <td>0</td>\n",
       "      <td>0</td>\n",
       "      <td>1</td>\n",
       "    </tr>\n",
       "    <tr>\n",
       "      <th>3</th>\n",
       "      <td>61.0</td>\n",
       "      <td>65.0</td>\n",
       "      <td>48.0</td>\n",
       "      <td>43.0</td>\n",
       "      <td>70.0</td>\n",
       "      <td>60.0</td>\n",
       "      <td>43.0</td>\n",
       "      <td>50.0</td>\n",
       "      <td>44.0</td>\n",
       "      <td>38.0</td>\n",
       "      <td>...</td>\n",
       "      <td>7.0</td>\n",
       "      <td>7.0</td>\n",
       "      <td>0</td>\n",
       "      <td>1</td>\n",
       "      <td>0</td>\n",
       "      <td>0</td>\n",
       "      <td>1</td>\n",
       "      <td>0</td>\n",
       "      <td>0</td>\n",
       "      <td>1</td>\n",
       "    </tr>\n",
       "    <tr>\n",
       "      <th>4</th>\n",
       "      <td>61.0</td>\n",
       "      <td>65.0</td>\n",
       "      <td>48.0</td>\n",
       "      <td>43.0</td>\n",
       "      <td>70.0</td>\n",
       "      <td>60.0</td>\n",
       "      <td>43.0</td>\n",
       "      <td>50.0</td>\n",
       "      <td>44.0</td>\n",
       "      <td>38.0</td>\n",
       "      <td>...</td>\n",
       "      <td>7.0</td>\n",
       "      <td>7.0</td>\n",
       "      <td>0</td>\n",
       "      <td>1</td>\n",
       "      <td>0</td>\n",
       "      <td>0</td>\n",
       "      <td>1</td>\n",
       "      <td>0</td>\n",
       "      <td>0</td>\n",
       "      <td>1</td>\n",
       "    </tr>\n",
       "  </tbody>\n",
       "</table>\n",
       "<p>5 rows × 43 columns</p>\n",
       "</div>"
      ],
      "text/plain": [
       "   overall_rating  potential  crossing  finishing  heading_accuracy  \\\n",
       "0            67.0       71.0      49.0       44.0              71.0   \n",
       "1            67.0       71.0      49.0       44.0              71.0   \n",
       "2            62.0       66.0      49.0       44.0              71.0   \n",
       "3            61.0       65.0      48.0       43.0              70.0   \n",
       "4            61.0       65.0      48.0       43.0              70.0   \n",
       "\n",
       "   short_passing  volleys  dribbling  curve  free_kick_accuracy  ...  \\\n",
       "0           61.0     44.0       51.0   45.0                39.0  ...   \n",
       "1           61.0     44.0       51.0   45.0                39.0  ...   \n",
       "2           61.0     44.0       51.0   45.0                39.0  ...   \n",
       "3           60.0     43.0       50.0   44.0                38.0  ...   \n",
       "4           60.0     43.0       50.0   44.0                38.0  ...   \n",
       "\n",
       "   gk_positioning  gk_reflexes  preferred_foot_left  preferred_foot_right  \\\n",
       "0             8.0          8.0                    0                     1   \n",
       "1             8.0          8.0                    0                     1   \n",
       "2             8.0          8.0                    0                     1   \n",
       "3             7.0          7.0                    0                     1   \n",
       "4             7.0          7.0                    0                     1   \n",
       "\n",
       "   attacking_work_rate_high  attacking_work_rate_low  \\\n",
       "0                         0                        0   \n",
       "1                         0                        0   \n",
       "2                         0                        0   \n",
       "3                         0                        0   \n",
       "4                         0                        0   \n",
       "\n",
       "   attacking_work_rate_medium  defensive_work_rate_high  \\\n",
       "0                           1                         0   \n",
       "1                           1                         0   \n",
       "2                           1                         0   \n",
       "3                           1                         0   \n",
       "4                           1                         0   \n",
       "\n",
       "   defensive_work_rate_low  defensive_work_rate_medium  \n",
       "0                        0                           1  \n",
       "1                        0                           1  \n",
       "2                        0                           1  \n",
       "3                        0                           1  \n",
       "4                        0                           1  \n",
       "\n",
       "[5 rows x 43 columns]"
      ]
     },
     "execution_count": 41,
     "metadata": {},
     "output_type": "execute_result"
    }
   ],
   "source": [
    "#Using get_dummies to convert categorical columns into numeric.\n",
    "finalDataset = pd.get_dummies(df) #Sci-kit learn package can also be used if we want to deploy the model.\n",
    "finalDataset.head()"
   ]
  },
  {
   "cell_type": "code",
   "execution_count": 42,
   "metadata": {
    "scrolled": true
   },
   "outputs": [
    {
     "name": "stdout",
     "output_type": "stream",
     "text": [
      "<class 'pandas.core.frame.DataFrame'>\n",
      "Int64Index: 183142 entries, 0 to 183977\n",
      "Data columns (total 43 columns):\n",
      " #   Column                      Non-Null Count   Dtype  \n",
      "---  ------                      --------------   -----  \n",
      " 0   overall_rating              183142 non-null  float64\n",
      " 1   potential                   183142 non-null  float64\n",
      " 2   crossing                    183142 non-null  float64\n",
      " 3   finishing                   183142 non-null  float64\n",
      " 4   heading_accuracy            183142 non-null  float64\n",
      " 5   short_passing               183142 non-null  float64\n",
      " 6   volleys                     183142 non-null  float64\n",
      " 7   dribbling                   183142 non-null  float64\n",
      " 8   curve                       183142 non-null  float64\n",
      " 9   free_kick_accuracy          183142 non-null  float64\n",
      " 10  long_passing                183142 non-null  float64\n",
      " 11  ball_control                183142 non-null  float64\n",
      " 12  acceleration                183142 non-null  float64\n",
      " 13  sprint_speed                183142 non-null  float64\n",
      " 14  agility                     183142 non-null  float64\n",
      " 15  reactions                   183142 non-null  float64\n",
      " 16  balance                     183142 non-null  float64\n",
      " 17  shot_power                  183142 non-null  float64\n",
      " 18  jumping                     183142 non-null  float64\n",
      " 19  stamina                     183142 non-null  float64\n",
      " 20  strength                    183142 non-null  float64\n",
      " 21  long_shots                  183142 non-null  float64\n",
      " 22  aggression                  183142 non-null  float64\n",
      " 23  interceptions               183142 non-null  float64\n",
      " 24  positioning                 183142 non-null  float64\n",
      " 25  vision                      183142 non-null  float64\n",
      " 26  penalties                   183142 non-null  float64\n",
      " 27  marking                     183142 non-null  float64\n",
      " 28  standing_tackle             183142 non-null  float64\n",
      " 29  sliding_tackle              183142 non-null  float64\n",
      " 30  gk_diving                   183142 non-null  float64\n",
      " 31  gk_handling                 183142 non-null  float64\n",
      " 32  gk_kicking                  183142 non-null  float64\n",
      " 33  gk_positioning              183142 non-null  float64\n",
      " 34  gk_reflexes                 183142 non-null  float64\n",
      " 35  preferred_foot_left         183142 non-null  uint8  \n",
      " 36  preferred_foot_right        183142 non-null  uint8  \n",
      " 37  attacking_work_rate_high    183142 non-null  uint8  \n",
      " 38  attacking_work_rate_low     183142 non-null  uint8  \n",
      " 39  attacking_work_rate_medium  183142 non-null  uint8  \n",
      " 40  defensive_work_rate_high    183142 non-null  uint8  \n",
      " 41  defensive_work_rate_low     183142 non-null  uint8  \n",
      " 42  defensive_work_rate_medium  183142 non-null  uint8  \n",
      "dtypes: float64(35), uint8(8)\n",
      "memory usage: 51.7 MB\n"
     ]
    }
   ],
   "source": [
    "finalDataset.info()"
   ]
  },
  {
   "cell_type": "markdown",
   "metadata": {},
   "source": [
    "### Feature selection"
   ]
  },
  {
   "cell_type": "code",
   "execution_count": 43,
   "metadata": {
    "scrolled": false
   },
   "outputs": [
    {
     "data": {
      "text/html": [
       "<div>\n",
       "<style scoped>\n",
       "    .dataframe tbody tr th:only-of-type {\n",
       "        vertical-align: middle;\n",
       "    }\n",
       "\n",
       "    .dataframe tbody tr th {\n",
       "        vertical-align: top;\n",
       "    }\n",
       "\n",
       "    .dataframe thead th {\n",
       "        text-align: right;\n",
       "    }\n",
       "</style>\n",
       "<table border=\"1\" class=\"dataframe\">\n",
       "  <thead>\n",
       "    <tr style=\"text-align: right;\">\n",
       "      <th></th>\n",
       "      <th>overall_rating</th>\n",
       "      <th>potential</th>\n",
       "      <th>crossing</th>\n",
       "      <th>finishing</th>\n",
       "      <th>heading_accuracy</th>\n",
       "      <th>short_passing</th>\n",
       "      <th>volleys</th>\n",
       "      <th>dribbling</th>\n",
       "      <th>curve</th>\n",
       "      <th>free_kick_accuracy</th>\n",
       "      <th>...</th>\n",
       "      <th>gk_positioning</th>\n",
       "      <th>gk_reflexes</th>\n",
       "      <th>preferred_foot_left</th>\n",
       "      <th>preferred_foot_right</th>\n",
       "      <th>attacking_work_rate_high</th>\n",
       "      <th>attacking_work_rate_low</th>\n",
       "      <th>attacking_work_rate_medium</th>\n",
       "      <th>defensive_work_rate_high</th>\n",
       "      <th>defensive_work_rate_low</th>\n",
       "      <th>defensive_work_rate_medium</th>\n",
       "    </tr>\n",
       "  </thead>\n",
       "  <tbody>\n",
       "    <tr>\n",
       "      <th>overall_rating</th>\n",
       "      <td>1.000000</td>\n",
       "      <td>0.736827</td>\n",
       "      <td>0.361459</td>\n",
       "      <td>0.311823</td>\n",
       "      <td>0.392566</td>\n",
       "      <td>0.601956</td>\n",
       "      <td>0.346404</td>\n",
       "      <td>0.442589</td>\n",
       "      <td>0.343403</td>\n",
       "      <td>0.333992</td>\n",
       "      <td>...</td>\n",
       "      <td>-0.047284</td>\n",
       "      <td>-0.036980</td>\n",
       "      <td>-0.003871</td>\n",
       "      <td>0.003871</td>\n",
       "      <td>0.149254</td>\n",
       "      <td>-0.018716</td>\n",
       "      <td>-0.127550</td>\n",
       "      <td>0.129420</td>\n",
       "      <td>0.027486</td>\n",
       "      <td>-0.123661</td>\n",
       "    </tr>\n",
       "    <tr>\n",
       "      <th>potential</th>\n",
       "      <td>0.736827</td>\n",
       "      <td>1.000000</td>\n",
       "      <td>0.281009</td>\n",
       "      <td>0.279924</td>\n",
       "      <td>0.239532</td>\n",
       "      <td>0.492330</td>\n",
       "      <td>0.293749</td>\n",
       "      <td>0.424433</td>\n",
       "      <td>0.288770</td>\n",
       "      <td>0.257246</td>\n",
       "      <td>...</td>\n",
       "      <td>0.032950</td>\n",
       "      <td>0.035670</td>\n",
       "      <td>0.001548</td>\n",
       "      <td>-0.001548</td>\n",
       "      <td>0.144034</td>\n",
       "      <td>-0.050129</td>\n",
       "      <td>-0.105593</td>\n",
       "      <td>0.069993</td>\n",
       "      <td>0.030666</td>\n",
       "      <td>-0.078679</td>\n",
       "    </tr>\n",
       "    <tr>\n",
       "      <th>crossing</th>\n",
       "      <td>0.361459</td>\n",
       "      <td>0.281009</td>\n",
       "      <td>1.000000</td>\n",
       "      <td>0.505376</td>\n",
       "      <td>-0.069925</td>\n",
       "      <td>0.553624</td>\n",
       "      <td>0.567020</td>\n",
       "      <td>0.564787</td>\n",
       "      <td>0.718932</td>\n",
       "      <td>0.649236</td>\n",
       "      <td>...</td>\n",
       "      <td>-0.146087</td>\n",
       "      <td>-0.154408</td>\n",
       "      <td>0.172408</td>\n",
       "      <td>-0.172408</td>\n",
       "      <td>0.277261</td>\n",
       "      <td>-0.107970</td>\n",
       "      <td>-0.197003</td>\n",
       "      <td>0.035428</td>\n",
       "      <td>0.074344</td>\n",
       "      <td>-0.083754</td>\n",
       "    </tr>\n",
       "    <tr>\n",
       "      <th>finishing</th>\n",
       "      <td>0.311823</td>\n",
       "      <td>0.279924</td>\n",
       "      <td>0.505376</td>\n",
       "      <td>1.000000</td>\n",
       "      <td>0.070193</td>\n",
       "      <td>0.361510</td>\n",
       "      <td>0.847360</td>\n",
       "      <td>0.620660</td>\n",
       "      <td>0.687971</td>\n",
       "      <td>0.632248</td>\n",
       "      <td>...</td>\n",
       "      <td>-0.134676</td>\n",
       "      <td>-0.140989</td>\n",
       "      <td>-0.011565</td>\n",
       "      <td>0.011565</td>\n",
       "      <td>0.282821</td>\n",
       "      <td>-0.130848</td>\n",
       "      <td>-0.189653</td>\n",
       "      <td>-0.028085</td>\n",
       "      <td>0.243666</td>\n",
       "      <td>-0.159595</td>\n",
       "    </tr>\n",
       "    <tr>\n",
       "      <th>heading_accuracy</th>\n",
       "      <td>0.392566</td>\n",
       "      <td>0.239532</td>\n",
       "      <td>-0.069925</td>\n",
       "      <td>0.070193</td>\n",
       "      <td>1.000000</td>\n",
       "      <td>0.079169</td>\n",
       "      <td>0.075015</td>\n",
       "      <td>-0.139128</td>\n",
       "      <td>-0.063598</td>\n",
       "      <td>-0.036743</td>\n",
       "      <td>...</td>\n",
       "      <td>-0.016692</td>\n",
       "      <td>-0.012002</td>\n",
       "      <td>-0.062228</td>\n",
       "      <td>0.062228</td>\n",
       "      <td>-0.022713</td>\n",
       "      <td>0.104347</td>\n",
       "      <td>-0.035969</td>\n",
       "      <td>0.153521</td>\n",
       "      <td>-0.028124</td>\n",
       "      <td>-0.101336</td>\n",
       "    </tr>\n",
       "    <tr>\n",
       "      <th>short_passing</th>\n",
       "      <td>0.601956</td>\n",
       "      <td>0.492330</td>\n",
       "      <td>0.553624</td>\n",
       "      <td>0.361510</td>\n",
       "      <td>0.079169</td>\n",
       "      <td>1.000000</td>\n",
       "      <td>0.426104</td>\n",
       "      <td>0.557914</td>\n",
       "      <td>0.510891</td>\n",
       "      <td>0.514316</td>\n",
       "      <td>...</td>\n",
       "      <td>-0.073867</td>\n",
       "      <td>-0.068780</td>\n",
       "      <td>0.023197</td>\n",
       "      <td>-0.023197</td>\n",
       "      <td>0.141712</td>\n",
       "      <td>-0.100521</td>\n",
       "      <td>-0.075955</td>\n",
       "      <td>0.099683</td>\n",
       "      <td>0.006484</td>\n",
       "      <td>-0.084279</td>\n",
       "    </tr>\n",
       "    <tr>\n",
       "      <th>volleys</th>\n",
       "      <td>0.346404</td>\n",
       "      <td>0.293749</td>\n",
       "      <td>0.567020</td>\n",
       "      <td>0.847360</td>\n",
       "      <td>0.075015</td>\n",
       "      <td>0.426104</td>\n",
       "      <td>1.000000</td>\n",
       "      <td>0.597569</td>\n",
       "      <td>0.752248</td>\n",
       "      <td>0.678982</td>\n",
       "      <td>...</td>\n",
       "      <td>-0.123325</td>\n",
       "      <td>-0.125830</td>\n",
       "      <td>0.012136</td>\n",
       "      <td>-0.012136</td>\n",
       "      <td>0.268992</td>\n",
       "      <td>-0.109948</td>\n",
       "      <td>-0.188291</td>\n",
       "      <td>0.007842</td>\n",
       "      <td>0.221954</td>\n",
       "      <td>-0.172010</td>\n",
       "    </tr>\n",
       "    <tr>\n",
       "      <th>dribbling</th>\n",
       "      <td>0.442589</td>\n",
       "      <td>0.424433</td>\n",
       "      <td>0.564787</td>\n",
       "      <td>0.620660</td>\n",
       "      <td>-0.139128</td>\n",
       "      <td>0.557914</td>\n",
       "      <td>0.597569</td>\n",
       "      <td>1.000000</td>\n",
       "      <td>0.595360</td>\n",
       "      <td>0.507205</td>\n",
       "      <td>...</td>\n",
       "      <td>-0.082491</td>\n",
       "      <td>-0.085090</td>\n",
       "      <td>0.039144</td>\n",
       "      <td>-0.039144</td>\n",
       "      <td>0.295260</td>\n",
       "      <td>-0.208533</td>\n",
       "      <td>-0.158748</td>\n",
       "      <td>-0.072767</td>\n",
       "      <td>0.158915</td>\n",
       "      <td>-0.060694</td>\n",
       "    </tr>\n",
       "    <tr>\n",
       "      <th>curve</th>\n",
       "      <td>0.343403</td>\n",
       "      <td>0.288770</td>\n",
       "      <td>0.718932</td>\n",
       "      <td>0.687971</td>\n",
       "      <td>-0.063598</td>\n",
       "      <td>0.510891</td>\n",
       "      <td>0.752248</td>\n",
       "      <td>0.595360</td>\n",
       "      <td>1.000000</td>\n",
       "      <td>0.793008</td>\n",
       "      <td>...</td>\n",
       "      <td>-0.170779</td>\n",
       "      <td>-0.173801</td>\n",
       "      <td>0.128362</td>\n",
       "      <td>-0.128362</td>\n",
       "      <td>0.276506</td>\n",
       "      <td>-0.112401</td>\n",
       "      <td>-0.193889</td>\n",
       "      <td>0.003293</td>\n",
       "      <td>0.161173</td>\n",
       "      <td>-0.122991</td>\n",
       "    </tr>\n",
       "    <tr>\n",
       "      <th>free_kick_accuracy</th>\n",
       "      <td>0.333992</td>\n",
       "      <td>0.257246</td>\n",
       "      <td>0.649236</td>\n",
       "      <td>0.632248</td>\n",
       "      <td>-0.036743</td>\n",
       "      <td>0.514316</td>\n",
       "      <td>0.678982</td>\n",
       "      <td>0.507205</td>\n",
       "      <td>0.793008</td>\n",
       "      <td>1.000000</td>\n",
       "      <td>...</td>\n",
       "      <td>-0.157513</td>\n",
       "      <td>-0.160853</td>\n",
       "      <td>0.124433</td>\n",
       "      <td>-0.124433</td>\n",
       "      <td>0.207397</td>\n",
       "      <td>-0.074308</td>\n",
       "      <td>-0.150884</td>\n",
       "      <td>0.022586</td>\n",
       "      <td>0.144035</td>\n",
       "      <td>-0.125567</td>\n",
       "    </tr>\n",
       "    <tr>\n",
       "      <th>long_passing</th>\n",
       "      <td>0.437026</td>\n",
       "      <td>0.342171</td>\n",
       "      <td>0.573240</td>\n",
       "      <td>0.242185</td>\n",
       "      <td>0.030978</td>\n",
       "      <td>0.691190</td>\n",
       "      <td>0.322135</td>\n",
       "      <td>0.347026</td>\n",
       "      <td>0.498041</td>\n",
       "      <td>0.526118</td>\n",
       "      <td>...</td>\n",
       "      <td>-0.126192</td>\n",
       "      <td>-0.124966</td>\n",
       "      <td>0.086030</td>\n",
       "      <td>-0.086030</td>\n",
       "      <td>0.105702</td>\n",
       "      <td>-0.029346</td>\n",
       "      <td>-0.081552</td>\n",
       "      <td>0.149620</td>\n",
       "      <td>-0.036092</td>\n",
       "      <td>-0.092277</td>\n",
       "    </tr>\n",
       "    <tr>\n",
       "      <th>ball_control</th>\n",
       "      <td>0.624051</td>\n",
       "      <td>0.551848</td>\n",
       "      <td>0.565788</td>\n",
       "      <td>0.559852</td>\n",
       "      <td>0.027069</td>\n",
       "      <td>0.711798</td>\n",
       "      <td>0.582968</td>\n",
       "      <td>0.766384</td>\n",
       "      <td>0.600723</td>\n",
       "      <td>0.543361</td>\n",
       "      <td>...</td>\n",
       "      <td>-0.089183</td>\n",
       "      <td>-0.085879</td>\n",
       "      <td>0.025644</td>\n",
       "      <td>-0.025644</td>\n",
       "      <td>0.238302</td>\n",
       "      <td>-0.151895</td>\n",
       "      <td>-0.137078</td>\n",
       "      <td>0.001384</td>\n",
       "      <td>0.117344</td>\n",
       "      <td>-0.088739</td>\n",
       "    </tr>\n",
       "    <tr>\n",
       "      <th>acceleration</th>\n",
       "      <td>0.245288</td>\n",
       "      <td>0.325637</td>\n",
       "      <td>0.488925</td>\n",
       "      <td>0.469957</td>\n",
       "      <td>-0.165264</td>\n",
       "      <td>0.237320</td>\n",
       "      <td>0.444516</td>\n",
       "      <td>0.541788</td>\n",
       "      <td>0.469202</td>\n",
       "      <td>0.353760</td>\n",
       "      <td>...</td>\n",
       "      <td>-0.098989</td>\n",
       "      <td>-0.111503</td>\n",
       "      <td>0.066461</td>\n",
       "      <td>-0.066461</td>\n",
       "      <td>0.329248</td>\n",
       "      <td>-0.126484</td>\n",
       "      <td>-0.234885</td>\n",
       "      <td>-0.033829</td>\n",
       "      <td>0.120857</td>\n",
       "      <td>-0.063301</td>\n",
       "    </tr>\n",
       "    <tr>\n",
       "      <th>sprint_speed</th>\n",
       "      <td>0.255584</td>\n",
       "      <td>0.330119</td>\n",
       "      <td>0.451168</td>\n",
       "      <td>0.432905</td>\n",
       "      <td>-0.091748</td>\n",
       "      <td>0.201210</td>\n",
       "      <td>0.406651</td>\n",
       "      <td>0.498083</td>\n",
       "      <td>0.416363</td>\n",
       "      <td>0.296886</td>\n",
       "      <td>...</td>\n",
       "      <td>-0.089317</td>\n",
       "      <td>-0.096713</td>\n",
       "      <td>0.061687</td>\n",
       "      <td>-0.061687</td>\n",
       "      <td>0.330297</td>\n",
       "      <td>-0.121963</td>\n",
       "      <td>-0.238320</td>\n",
       "      <td>-0.031991</td>\n",
       "      <td>0.107268</td>\n",
       "      <td>-0.054617</td>\n",
       "    </tr>\n",
       "    <tr>\n",
       "      <th>agility</th>\n",
       "      <td>0.236536</td>\n",
       "      <td>0.279852</td>\n",
       "      <td>0.531182</td>\n",
       "      <td>0.526459</td>\n",
       "      <td>-0.247962</td>\n",
       "      <td>0.337471</td>\n",
       "      <td>0.533430</td>\n",
       "      <td>0.596619</td>\n",
       "      <td>0.585104</td>\n",
       "      <td>0.473733</td>\n",
       "      <td>...</td>\n",
       "      <td>-0.118913</td>\n",
       "      <td>-0.128010</td>\n",
       "      <td>0.060822</td>\n",
       "      <td>-0.060822</td>\n",
       "      <td>0.309139</td>\n",
       "      <td>-0.145041</td>\n",
       "      <td>-0.206200</td>\n",
       "      <td>-0.035662</td>\n",
       "      <td>0.138362</td>\n",
       "      <td>-0.074913</td>\n",
       "    </tr>\n",
       "    <tr>\n",
       "      <th>reactions</th>\n",
       "      <td>0.742213</td>\n",
       "      <td>0.568493</td>\n",
       "      <td>0.370946</td>\n",
       "      <td>0.333104</td>\n",
       "      <td>0.292953</td>\n",
       "      <td>0.544323</td>\n",
       "      <td>0.373249</td>\n",
       "      <td>0.418056</td>\n",
       "      <td>0.362677</td>\n",
       "      <td>0.339789</td>\n",
       "      <td>...</td>\n",
       "      <td>-0.041190</td>\n",
       "      <td>-0.036859</td>\n",
       "      <td>-0.009080</td>\n",
       "      <td>0.009080</td>\n",
       "      <td>0.172698</td>\n",
       "      <td>-0.052539</td>\n",
       "      <td>-0.130735</td>\n",
       "      <td>0.120367</td>\n",
       "      <td>0.017407</td>\n",
       "      <td>-0.108919</td>\n",
       "    </tr>\n",
       "    <tr>\n",
       "      <th>balance</th>\n",
       "      <td>0.161016</td>\n",
       "      <td>0.199850</td>\n",
       "      <td>0.425572</td>\n",
       "      <td>0.346850</td>\n",
       "      <td>-0.238783</td>\n",
       "      <td>0.276892</td>\n",
       "      <td>0.369617</td>\n",
       "      <td>0.394191</td>\n",
       "      <td>0.436613</td>\n",
       "      <td>0.378335</td>\n",
       "      <td>...</td>\n",
       "      <td>-0.044237</td>\n",
       "      <td>-0.052306</td>\n",
       "      <td>0.052912</td>\n",
       "      <td>-0.052912</td>\n",
       "      <td>0.203682</td>\n",
       "      <td>-0.073489</td>\n",
       "      <td>-0.147902</td>\n",
       "      <td>0.023378</td>\n",
       "      <td>0.072452</td>\n",
       "      <td>-0.072738</td>\n",
       "    </tr>\n",
       "    <tr>\n",
       "      <th>shot_power</th>\n",
       "      <td>0.470969</td>\n",
       "      <td>0.347444</td>\n",
       "      <td>0.454208</td>\n",
       "      <td>0.598433</td>\n",
       "      <td>0.209500</td>\n",
       "      <td>0.458579</td>\n",
       "      <td>0.605767</td>\n",
       "      <td>0.511273</td>\n",
       "      <td>0.533981</td>\n",
       "      <td>0.549878</td>\n",
       "      <td>...</td>\n",
       "      <td>-0.127281</td>\n",
       "      <td>-0.126633</td>\n",
       "      <td>0.030418</td>\n",
       "      <td>-0.030418</td>\n",
       "      <td>0.217730</td>\n",
       "      <td>-0.088428</td>\n",
       "      <td>-0.152718</td>\n",
       "      <td>0.058953</td>\n",
       "      <td>0.116020</td>\n",
       "      <td>-0.133626</td>\n",
       "    </tr>\n",
       "    <tr>\n",
       "      <th>jumping</th>\n",
       "      <td>0.257532</td>\n",
       "      <td>0.165884</td>\n",
       "      <td>0.005416</td>\n",
       "      <td>0.013173</td>\n",
       "      <td>0.351902</td>\n",
       "      <td>0.023213</td>\n",
       "      <td>0.028352</td>\n",
       "      <td>-0.042444</td>\n",
       "      <td>-0.016976</td>\n",
       "      <td>-0.026616</td>\n",
       "      <td>...</td>\n",
       "      <td>-0.021355</td>\n",
       "      <td>-0.020327</td>\n",
       "      <td>-0.033511</td>\n",
       "      <td>0.033511</td>\n",
       "      <td>0.064185</td>\n",
       "      <td>0.032821</td>\n",
       "      <td>-0.077150</td>\n",
       "      <td>0.151630</td>\n",
       "      <td>-0.053333</td>\n",
       "      <td>-0.081003</td>\n",
       "    </tr>\n",
       "    <tr>\n",
       "      <th>stamina</th>\n",
       "      <td>0.364510</td>\n",
       "      <td>0.261827</td>\n",
       "      <td>0.376603</td>\n",
       "      <td>0.197848</td>\n",
       "      <td>0.160842</td>\n",
       "      <td>0.370013</td>\n",
       "      <td>0.236978</td>\n",
       "      <td>0.243715</td>\n",
       "      <td>0.297826</td>\n",
       "      <td>0.277966</td>\n",
       "      <td>...</td>\n",
       "      <td>-0.063883</td>\n",
       "      <td>-0.073308</td>\n",
       "      <td>0.030210</td>\n",
       "      <td>-0.030210</td>\n",
       "      <td>0.252866</td>\n",
       "      <td>-0.048379</td>\n",
       "      <td>-0.207000</td>\n",
       "      <td>0.244989</td>\n",
       "      <td>-0.099661</td>\n",
       "      <td>-0.120801</td>\n",
       "    </tr>\n",
       "    <tr>\n",
       "      <th>strength</th>\n",
       "      <td>0.290248</td>\n",
       "      <td>0.126685</td>\n",
       "      <td>-0.106883</td>\n",
       "      <td>-0.058252</td>\n",
       "      <td>0.583695</td>\n",
       "      <td>0.021759</td>\n",
       "      <td>-0.040732</td>\n",
       "      <td>-0.218549</td>\n",
       "      <td>-0.121870</td>\n",
       "      <td>-0.067331</td>\n",
       "      <td>...</td>\n",
       "      <td>-0.064823</td>\n",
       "      <td>-0.054565</td>\n",
       "      <td>-0.041256</td>\n",
       "      <td>0.041256</td>\n",
       "      <td>-0.058504</td>\n",
       "      <td>0.124572</td>\n",
       "      <td>-0.013969</td>\n",
       "      <td>0.193480</td>\n",
       "      <td>-0.064176</td>\n",
       "      <td>-0.106254</td>\n",
       "    </tr>\n",
       "    <tr>\n",
       "      <th>long_shots</th>\n",
       "      <td>0.374328</td>\n",
       "      <td>0.305706</td>\n",
       "      <td>0.642677</td>\n",
       "      <td>0.805882</td>\n",
       "      <td>0.055741</td>\n",
       "      <td>0.510251</td>\n",
       "      <td>0.810466</td>\n",
       "      <td>0.589969</td>\n",
       "      <td>0.779780</td>\n",
       "      <td>0.772659</td>\n",
       "      <td>...</td>\n",
       "      <td>-0.176150</td>\n",
       "      <td>-0.182223</td>\n",
       "      <td>0.060061</td>\n",
       "      <td>-0.060061</td>\n",
       "      <td>0.266609</td>\n",
       "      <td>-0.098168</td>\n",
       "      <td>-0.192519</td>\n",
       "      <td>0.050842</td>\n",
       "      <td>0.167951</td>\n",
       "      <td>-0.165945</td>\n",
       "    </tr>\n",
       "    <tr>\n",
       "      <th>aggression</th>\n",
       "      <td>0.308836</td>\n",
       "      <td>0.157750</td>\n",
       "      <td>0.256015</td>\n",
       "      <td>0.027282</td>\n",
       "      <td>0.396673</td>\n",
       "      <td>0.227129</td>\n",
       "      <td>0.111973</td>\n",
       "      <td>-0.105635</td>\n",
       "      <td>0.186273</td>\n",
       "      <td>0.218351</td>\n",
       "      <td>...</td>\n",
       "      <td>-0.135489</td>\n",
       "      <td>-0.133998</td>\n",
       "      <td>0.035331</td>\n",
       "      <td>-0.035331</td>\n",
       "      <td>0.068382</td>\n",
       "      <td>0.109231</td>\n",
       "      <td>-0.122714</td>\n",
       "      <td>0.305301</td>\n",
       "      <td>-0.135303</td>\n",
       "      <td>-0.142244</td>\n",
       "    </tr>\n",
       "    <tr>\n",
       "      <th>interceptions</th>\n",
       "      <td>0.240105</td>\n",
       "      <td>0.161269</td>\n",
       "      <td>0.240423</td>\n",
       "      <td>-0.149366</td>\n",
       "      <td>0.274208</td>\n",
       "      <td>0.256948</td>\n",
       "      <td>-0.037466</td>\n",
       "      <td>-0.191977</td>\n",
       "      <td>0.135767</td>\n",
       "      <td>0.178005</td>\n",
       "      <td>...</td>\n",
       "      <td>0.011624</td>\n",
       "      <td>0.006705</td>\n",
       "      <td>0.073508</td>\n",
       "      <td>-0.073508</td>\n",
       "      <td>-0.015840</td>\n",
       "      <td>0.141202</td>\n",
       "      <td>-0.062420</td>\n",
       "      <td>0.284348</td>\n",
       "      <td>-0.177293</td>\n",
       "      <td>-0.094187</td>\n",
       "    </tr>\n",
       "    <tr>\n",
       "      <th>positioning</th>\n",
       "      <td>0.351430</td>\n",
       "      <td>0.321655</td>\n",
       "      <td>0.600304</td>\n",
       "      <td>0.792393</td>\n",
       "      <td>0.061287</td>\n",
       "      <td>0.441371</td>\n",
       "      <td>0.769202</td>\n",
       "      <td>0.589301</td>\n",
       "      <td>0.709773</td>\n",
       "      <td>0.647176</td>\n",
       "      <td>...</td>\n",
       "      <td>-0.069646</td>\n",
       "      <td>-0.078492</td>\n",
       "      <td>0.032023</td>\n",
       "      <td>-0.032023</td>\n",
       "      <td>0.301538</td>\n",
       "      <td>-0.113629</td>\n",
       "      <td>-0.216323</td>\n",
       "      <td>0.015942</td>\n",
       "      <td>0.202541</td>\n",
       "      <td>-0.163966</td>\n",
       "    </tr>\n",
       "    <tr>\n",
       "      <th>vision</th>\n",
       "      <td>0.425724</td>\n",
       "      <td>0.381041</td>\n",
       "      <td>0.620926</td>\n",
       "      <td>0.612142</td>\n",
       "      <td>-0.007580</td>\n",
       "      <td>0.629062</td>\n",
       "      <td>0.654235</td>\n",
       "      <td>0.556618</td>\n",
       "      <td>0.685485</td>\n",
       "      <td>0.657458</td>\n",
       "      <td>...</td>\n",
       "      <td>-0.040172</td>\n",
       "      <td>-0.043167</td>\n",
       "      <td>0.029512</td>\n",
       "      <td>-0.029512</td>\n",
       "      <td>0.208573</td>\n",
       "      <td>-0.082816</td>\n",
       "      <td>-0.147328</td>\n",
       "      <td>0.073992</td>\n",
       "      <td>0.121688</td>\n",
       "      <td>-0.149844</td>\n",
       "    </tr>\n",
       "    <tr>\n",
       "      <th>penalties</th>\n",
       "      <td>0.373690</td>\n",
       "      <td>0.310111</td>\n",
       "      <td>0.495971</td>\n",
       "      <td>0.711134</td>\n",
       "      <td>0.149782</td>\n",
       "      <td>0.406961</td>\n",
       "      <td>0.699682</td>\n",
       "      <td>0.465961</td>\n",
       "      <td>0.635244</td>\n",
       "      <td>0.656280</td>\n",
       "      <td>...</td>\n",
       "      <td>-0.053302</td>\n",
       "      <td>-0.060909</td>\n",
       "      <td>0.016264</td>\n",
       "      <td>-0.016264</td>\n",
       "      <td>0.198940</td>\n",
       "      <td>-0.055804</td>\n",
       "      <td>-0.153175</td>\n",
       "      <td>0.016273</td>\n",
       "      <td>0.202468</td>\n",
       "      <td>-0.164176</td>\n",
       "    </tr>\n",
       "    <tr>\n",
       "      <th>marking</th>\n",
       "      <td>0.128844</td>\n",
       "      <td>0.055196</td>\n",
       "      <td>0.158670</td>\n",
       "      <td>-0.284603</td>\n",
       "      <td>0.281587</td>\n",
       "      <td>0.135819</td>\n",
       "      <td>-0.168131</td>\n",
       "      <td>-0.328575</td>\n",
       "      <td>0.033514</td>\n",
       "      <td>0.074506</td>\n",
       "      <td>...</td>\n",
       "      <td>-0.086027</td>\n",
       "      <td>-0.090085</td>\n",
       "      <td>0.095611</td>\n",
       "      <td>-0.095611</td>\n",
       "      <td>-0.041600</td>\n",
       "      <td>0.159828</td>\n",
       "      <td>-0.048806</td>\n",
       "      <td>0.284865</td>\n",
       "      <td>-0.233166</td>\n",
       "      <td>-0.052872</td>\n",
       "    </tr>\n",
       "    <tr>\n",
       "      <th>standing_tackle</th>\n",
       "      <td>0.159495</td>\n",
       "      <td>0.082994</td>\n",
       "      <td>0.205726</td>\n",
       "      <td>-0.229699</td>\n",
       "      <td>0.272529</td>\n",
       "      <td>0.198677</td>\n",
       "      <td>-0.106443</td>\n",
       "      <td>-0.274863</td>\n",
       "      <td>0.094780</td>\n",
       "      <td>0.134508</td>\n",
       "      <td>...</td>\n",
       "      <td>-0.116526</td>\n",
       "      <td>-0.123793</td>\n",
       "      <td>0.091692</td>\n",
       "      <td>-0.091692</td>\n",
       "      <td>-0.021726</td>\n",
       "      <td>0.146513</td>\n",
       "      <td>-0.059885</td>\n",
       "      <td>0.292096</td>\n",
       "      <td>-0.227424</td>\n",
       "      <td>-0.062923</td>\n",
       "    </tr>\n",
       "    <tr>\n",
       "      <th>sliding_tackle</th>\n",
       "      <td>0.127637</td>\n",
       "      <td>0.065161</td>\n",
       "      <td>0.200925</td>\n",
       "      <td>-0.259671</td>\n",
       "      <td>0.240742</td>\n",
       "      <td>0.169400</td>\n",
       "      <td>-0.126398</td>\n",
       "      <td>-0.282015</td>\n",
       "      <td>0.081215</td>\n",
       "      <td>0.106378</td>\n",
       "      <td>...</td>\n",
       "      <td>-0.094875</td>\n",
       "      <td>-0.100603</td>\n",
       "      <td>0.098026</td>\n",
       "      <td>-0.098026</td>\n",
       "      <td>-0.014987</td>\n",
       "      <td>0.138485</td>\n",
       "      <td>-0.061725</td>\n",
       "      <td>0.290391</td>\n",
       "      <td>-0.241637</td>\n",
       "      <td>-0.050950</td>\n",
       "    </tr>\n",
       "    <tr>\n",
       "      <th>gk_diving</th>\n",
       "      <td>0.021787</td>\n",
       "      <td>-0.027017</td>\n",
       "      <td>-0.160279</td>\n",
       "      <td>-0.178171</td>\n",
       "      <td>-0.028416</td>\n",
       "      <td>-0.015854</td>\n",
       "      <td>-0.201548</td>\n",
       "      <td>-0.026119</td>\n",
       "      <td>-0.211278</td>\n",
       "      <td>-0.186009</td>\n",
       "      <td>...</td>\n",
       "      <td>-0.007580</td>\n",
       "      <td>0.004502</td>\n",
       "      <td>-0.015737</td>\n",
       "      <td>0.015737</td>\n",
       "      <td>-0.058291</td>\n",
       "      <td>-0.032939</td>\n",
       "      <td>0.071774</td>\n",
       "      <td>-0.048136</td>\n",
       "      <td>-0.049611</td>\n",
       "      <td>0.075410</td>\n",
       "    </tr>\n",
       "    <tr>\n",
       "      <th>gk_handling</th>\n",
       "      <td>-0.043780</td>\n",
       "      <td>0.035557</td>\n",
       "      <td>-0.136957</td>\n",
       "      <td>-0.113903</td>\n",
       "      <td>-0.019479</td>\n",
       "      <td>-0.067265</td>\n",
       "      <td>-0.107150</td>\n",
       "      <td>-0.069876</td>\n",
       "      <td>-0.151199</td>\n",
       "      <td>-0.145346</td>\n",
       "      <td>...</td>\n",
       "      <td>0.680307</td>\n",
       "      <td>0.686101</td>\n",
       "      <td>-0.028936</td>\n",
       "      <td>0.028936</td>\n",
       "      <td>-0.083171</td>\n",
       "      <td>0.040634</td>\n",
       "      <td>0.054597</td>\n",
       "      <td>-0.051504</td>\n",
       "      <td>0.057721</td>\n",
       "      <td>-0.002064</td>\n",
       "    </tr>\n",
       "    <tr>\n",
       "      <th>gk_kicking</th>\n",
       "      <td>-0.032037</td>\n",
       "      <td>0.033048</td>\n",
       "      <td>-0.243423</td>\n",
       "      <td>-0.235193</td>\n",
       "      <td>-0.029383</td>\n",
       "      <td>-0.092031</td>\n",
       "      <td>-0.226384</td>\n",
       "      <td>-0.095541</td>\n",
       "      <td>-0.283654</td>\n",
       "      <td>-0.240738</td>\n",
       "      <td>...</td>\n",
       "      <td>0.640616</td>\n",
       "      <td>0.641805</td>\n",
       "      <td>-0.046579</td>\n",
       "      <td>0.046579</td>\n",
       "      <td>-0.119872</td>\n",
       "      <td>0.030684</td>\n",
       "      <td>0.093901</td>\n",
       "      <td>-0.064959</td>\n",
       "      <td>0.033402</td>\n",
       "      <td>0.026820</td>\n",
       "    </tr>\n",
       "    <tr>\n",
       "      <th>gk_positioning</th>\n",
       "      <td>-0.047284</td>\n",
       "      <td>0.032950</td>\n",
       "      <td>-0.146087</td>\n",
       "      <td>-0.134676</td>\n",
       "      <td>-0.016692</td>\n",
       "      <td>-0.073867</td>\n",
       "      <td>-0.123325</td>\n",
       "      <td>-0.082491</td>\n",
       "      <td>-0.170779</td>\n",
       "      <td>-0.157513</td>\n",
       "      <td>...</td>\n",
       "      <td>1.000000</td>\n",
       "      <td>0.684143</td>\n",
       "      <td>-0.020675</td>\n",
       "      <td>0.020675</td>\n",
       "      <td>-0.088074</td>\n",
       "      <td>0.035015</td>\n",
       "      <td>0.062188</td>\n",
       "      <td>-0.042099</td>\n",
       "      <td>0.046018</td>\n",
       "      <td>-0.000819</td>\n",
       "    </tr>\n",
       "    <tr>\n",
       "      <th>gk_reflexes</th>\n",
       "      <td>-0.036980</td>\n",
       "      <td>0.035670</td>\n",
       "      <td>-0.154408</td>\n",
       "      <td>-0.140989</td>\n",
       "      <td>-0.012002</td>\n",
       "      <td>-0.068780</td>\n",
       "      <td>-0.125830</td>\n",
       "      <td>-0.085090</td>\n",
       "      <td>-0.173801</td>\n",
       "      <td>-0.160853</td>\n",
       "      <td>...</td>\n",
       "      <td>0.684143</td>\n",
       "      <td>1.000000</td>\n",
       "      <td>-0.017568</td>\n",
       "      <td>0.017568</td>\n",
       "      <td>-0.092383</td>\n",
       "      <td>0.039127</td>\n",
       "      <td>0.063922</td>\n",
       "      <td>-0.039067</td>\n",
       "      <td>0.054764</td>\n",
       "      <td>-0.009767</td>\n",
       "    </tr>\n",
       "    <tr>\n",
       "      <th>preferred_foot_left</th>\n",
       "      <td>-0.003871</td>\n",
       "      <td>0.001548</td>\n",
       "      <td>0.172408</td>\n",
       "      <td>-0.011565</td>\n",
       "      <td>-0.062228</td>\n",
       "      <td>0.023197</td>\n",
       "      <td>0.012136</td>\n",
       "      <td>0.039144</td>\n",
       "      <td>0.128362</td>\n",
       "      <td>0.124433</td>\n",
       "      <td>...</td>\n",
       "      <td>-0.020675</td>\n",
       "      <td>-0.017568</td>\n",
       "      <td>1.000000</td>\n",
       "      <td>-1.000000</td>\n",
       "      <td>0.034634</td>\n",
       "      <td>-0.022394</td>\n",
       "      <td>-0.019749</td>\n",
       "      <td>-0.040730</td>\n",
       "      <td>0.006303</td>\n",
       "      <td>0.027750</td>\n",
       "    </tr>\n",
       "    <tr>\n",
       "      <th>preferred_foot_right</th>\n",
       "      <td>0.003871</td>\n",
       "      <td>-0.001548</td>\n",
       "      <td>-0.172408</td>\n",
       "      <td>0.011565</td>\n",
       "      <td>0.062228</td>\n",
       "      <td>-0.023197</td>\n",
       "      <td>-0.012136</td>\n",
       "      <td>-0.039144</td>\n",
       "      <td>-0.128362</td>\n",
       "      <td>-0.124433</td>\n",
       "      <td>...</td>\n",
       "      <td>0.020675</td>\n",
       "      <td>0.017568</td>\n",
       "      <td>-1.000000</td>\n",
       "      <td>1.000000</td>\n",
       "      <td>-0.034634</td>\n",
       "      <td>0.022394</td>\n",
       "      <td>0.019749</td>\n",
       "      <td>0.040730</td>\n",
       "      <td>-0.006303</td>\n",
       "      <td>-0.027750</td>\n",
       "    </tr>\n",
       "    <tr>\n",
       "      <th>attacking_work_rate_high</th>\n",
       "      <td>0.149254</td>\n",
       "      <td>0.144034</td>\n",
       "      <td>0.277261</td>\n",
       "      <td>0.282821</td>\n",
       "      <td>-0.022713</td>\n",
       "      <td>0.141712</td>\n",
       "      <td>0.268992</td>\n",
       "      <td>0.295260</td>\n",
       "      <td>0.276506</td>\n",
       "      <td>0.207397</td>\n",
       "      <td>...</td>\n",
       "      <td>-0.088074</td>\n",
       "      <td>-0.092383</td>\n",
       "      <td>0.034634</td>\n",
       "      <td>-0.034634</td>\n",
       "      <td>1.000000</td>\n",
       "      <td>-0.148547</td>\n",
       "      <td>-0.841952</td>\n",
       "      <td>0.057185</td>\n",
       "      <td>0.008646</td>\n",
       "      <td>-0.052027</td>\n",
       "    </tr>\n",
       "    <tr>\n",
       "      <th>attacking_work_rate_low</th>\n",
       "      <td>-0.018716</td>\n",
       "      <td>-0.050129</td>\n",
       "      <td>-0.107970</td>\n",
       "      <td>-0.130848</td>\n",
       "      <td>0.104347</td>\n",
       "      <td>-0.100521</td>\n",
       "      <td>-0.109948</td>\n",
       "      <td>-0.208533</td>\n",
       "      <td>-0.112401</td>\n",
       "      <td>-0.074308</td>\n",
       "      <td>...</td>\n",
       "      <td>0.035015</td>\n",
       "      <td>0.039127</td>\n",
       "      <td>-0.022394</td>\n",
       "      <td>0.022394</td>\n",
       "      <td>-0.148547</td>\n",
       "      <td>1.000000</td>\n",
       "      <td>-0.408497</td>\n",
       "      <td>0.112596</td>\n",
       "      <td>0.113114</td>\n",
       "      <td>-0.174203</td>\n",
       "    </tr>\n",
       "    <tr>\n",
       "      <th>attacking_work_rate_medium</th>\n",
       "      <td>-0.127550</td>\n",
       "      <td>-0.105593</td>\n",
       "      <td>-0.197003</td>\n",
       "      <td>-0.189653</td>\n",
       "      <td>-0.035969</td>\n",
       "      <td>-0.075955</td>\n",
       "      <td>-0.188291</td>\n",
       "      <td>-0.158748</td>\n",
       "      <td>-0.193889</td>\n",
       "      <td>-0.150884</td>\n",
       "      <td>...</td>\n",
       "      <td>0.062188</td>\n",
       "      <td>0.063922</td>\n",
       "      <td>-0.019749</td>\n",
       "      <td>0.019749</td>\n",
       "      <td>-0.841952</td>\n",
       "      <td>-0.408497</td>\n",
       "      <td>1.000000</td>\n",
       "      <td>-0.114214</td>\n",
       "      <td>-0.069696</td>\n",
       "      <td>0.143067</td>\n",
       "    </tr>\n",
       "    <tr>\n",
       "      <th>defensive_work_rate_high</th>\n",
       "      <td>0.129420</td>\n",
       "      <td>0.069993</td>\n",
       "      <td>0.035428</td>\n",
       "      <td>-0.028085</td>\n",
       "      <td>0.153521</td>\n",
       "      <td>0.099683</td>\n",
       "      <td>0.007842</td>\n",
       "      <td>-0.072767</td>\n",
       "      <td>0.003293</td>\n",
       "      <td>0.022586</td>\n",
       "      <td>...</td>\n",
       "      <td>-0.042099</td>\n",
       "      <td>-0.039067</td>\n",
       "      <td>-0.040730</td>\n",
       "      <td>0.040730</td>\n",
       "      <td>0.057185</td>\n",
       "      <td>0.112596</td>\n",
       "      <td>-0.114214</td>\n",
       "      <td>1.000000</td>\n",
       "      <td>-0.161964</td>\n",
       "      <td>-0.675933</td>\n",
       "    </tr>\n",
       "    <tr>\n",
       "      <th>defensive_work_rate_low</th>\n",
       "      <td>0.027486</td>\n",
       "      <td>0.030666</td>\n",
       "      <td>0.074344</td>\n",
       "      <td>0.243666</td>\n",
       "      <td>-0.028124</td>\n",
       "      <td>0.006484</td>\n",
       "      <td>0.221954</td>\n",
       "      <td>0.158915</td>\n",
       "      <td>0.161173</td>\n",
       "      <td>0.144035</td>\n",
       "      <td>...</td>\n",
       "      <td>0.046018</td>\n",
       "      <td>0.054764</td>\n",
       "      <td>0.006303</td>\n",
       "      <td>-0.006303</td>\n",
       "      <td>0.008646</td>\n",
       "      <td>0.113114</td>\n",
       "      <td>-0.069696</td>\n",
       "      <td>-0.161964</td>\n",
       "      <td>1.000000</td>\n",
       "      <td>-0.617756</td>\n",
       "    </tr>\n",
       "    <tr>\n",
       "      <th>defensive_work_rate_medium</th>\n",
       "      <td>-0.123661</td>\n",
       "      <td>-0.078679</td>\n",
       "      <td>-0.083754</td>\n",
       "      <td>-0.159595</td>\n",
       "      <td>-0.101336</td>\n",
       "      <td>-0.084279</td>\n",
       "      <td>-0.172010</td>\n",
       "      <td>-0.060694</td>\n",
       "      <td>-0.122991</td>\n",
       "      <td>-0.125567</td>\n",
       "      <td>...</td>\n",
       "      <td>-0.000819</td>\n",
       "      <td>-0.009767</td>\n",
       "      <td>0.027750</td>\n",
       "      <td>-0.027750</td>\n",
       "      <td>-0.052027</td>\n",
       "      <td>-0.174203</td>\n",
       "      <td>0.143067</td>\n",
       "      <td>-0.675933</td>\n",
       "      <td>-0.617756</td>\n",
       "      <td>1.000000</td>\n",
       "    </tr>\n",
       "  </tbody>\n",
       "</table>\n",
       "<p>43 rows × 43 columns</p>\n",
       "</div>"
      ],
      "text/plain": [
       "                            overall_rating  potential  crossing  finishing  \\\n",
       "overall_rating                    1.000000   0.736827  0.361459   0.311823   \n",
       "potential                         0.736827   1.000000  0.281009   0.279924   \n",
       "crossing                          0.361459   0.281009  1.000000   0.505376   \n",
       "finishing                         0.311823   0.279924  0.505376   1.000000   \n",
       "heading_accuracy                  0.392566   0.239532 -0.069925   0.070193   \n",
       "short_passing                     0.601956   0.492330  0.553624   0.361510   \n",
       "volleys                           0.346404   0.293749  0.567020   0.847360   \n",
       "dribbling                         0.442589   0.424433  0.564787   0.620660   \n",
       "curve                             0.343403   0.288770  0.718932   0.687971   \n",
       "free_kick_accuracy                0.333992   0.257246  0.649236   0.632248   \n",
       "long_passing                      0.437026   0.342171  0.573240   0.242185   \n",
       "ball_control                      0.624051   0.551848  0.565788   0.559852   \n",
       "acceleration                      0.245288   0.325637  0.488925   0.469957   \n",
       "sprint_speed                      0.255584   0.330119  0.451168   0.432905   \n",
       "agility                           0.236536   0.279852  0.531182   0.526459   \n",
       "reactions                         0.742213   0.568493  0.370946   0.333104   \n",
       "balance                           0.161016   0.199850  0.425572   0.346850   \n",
       "shot_power                        0.470969   0.347444  0.454208   0.598433   \n",
       "jumping                           0.257532   0.165884  0.005416   0.013173   \n",
       "stamina                           0.364510   0.261827  0.376603   0.197848   \n",
       "strength                          0.290248   0.126685 -0.106883  -0.058252   \n",
       "long_shots                        0.374328   0.305706  0.642677   0.805882   \n",
       "aggression                        0.308836   0.157750  0.256015   0.027282   \n",
       "interceptions                     0.240105   0.161269  0.240423  -0.149366   \n",
       "positioning                       0.351430   0.321655  0.600304   0.792393   \n",
       "vision                            0.425724   0.381041  0.620926   0.612142   \n",
       "penalties                         0.373690   0.310111  0.495971   0.711134   \n",
       "marking                           0.128844   0.055196  0.158670  -0.284603   \n",
       "standing_tackle                   0.159495   0.082994  0.205726  -0.229699   \n",
       "sliding_tackle                    0.127637   0.065161  0.200925  -0.259671   \n",
       "gk_diving                         0.021787  -0.027017 -0.160279  -0.178171   \n",
       "gk_handling                      -0.043780   0.035557 -0.136957  -0.113903   \n",
       "gk_kicking                       -0.032037   0.033048 -0.243423  -0.235193   \n",
       "gk_positioning                   -0.047284   0.032950 -0.146087  -0.134676   \n",
       "gk_reflexes                      -0.036980   0.035670 -0.154408  -0.140989   \n",
       "preferred_foot_left              -0.003871   0.001548  0.172408  -0.011565   \n",
       "preferred_foot_right              0.003871  -0.001548 -0.172408   0.011565   \n",
       "attacking_work_rate_high          0.149254   0.144034  0.277261   0.282821   \n",
       "attacking_work_rate_low          -0.018716  -0.050129 -0.107970  -0.130848   \n",
       "attacking_work_rate_medium       -0.127550  -0.105593 -0.197003  -0.189653   \n",
       "defensive_work_rate_high          0.129420   0.069993  0.035428  -0.028085   \n",
       "defensive_work_rate_low           0.027486   0.030666  0.074344   0.243666   \n",
       "defensive_work_rate_medium       -0.123661  -0.078679 -0.083754  -0.159595   \n",
       "\n",
       "                            heading_accuracy  short_passing   volleys  \\\n",
       "overall_rating                      0.392566       0.601956  0.346404   \n",
       "potential                           0.239532       0.492330  0.293749   \n",
       "crossing                           -0.069925       0.553624  0.567020   \n",
       "finishing                           0.070193       0.361510  0.847360   \n",
       "heading_accuracy                    1.000000       0.079169  0.075015   \n",
       "short_passing                       0.079169       1.000000  0.426104   \n",
       "volleys                             0.075015       0.426104  1.000000   \n",
       "dribbling                          -0.139128       0.557914  0.597569   \n",
       "curve                              -0.063598       0.510891  0.752248   \n",
       "free_kick_accuracy                 -0.036743       0.514316  0.678982   \n",
       "long_passing                        0.030978       0.691190  0.322135   \n",
       "ball_control                        0.027069       0.711798  0.582968   \n",
       "acceleration                       -0.165264       0.237320  0.444516   \n",
       "sprint_speed                       -0.091748       0.201210  0.406651   \n",
       "agility                            -0.247962       0.337471  0.533430   \n",
       "reactions                           0.292953       0.544323  0.373249   \n",
       "balance                            -0.238783       0.276892  0.369617   \n",
       "shot_power                          0.209500       0.458579  0.605767   \n",
       "jumping                             0.351902       0.023213  0.028352   \n",
       "stamina                             0.160842       0.370013  0.236978   \n",
       "strength                            0.583695       0.021759 -0.040732   \n",
       "long_shots                          0.055741       0.510251  0.810466   \n",
       "aggression                          0.396673       0.227129  0.111973   \n",
       "interceptions                       0.274208       0.256948 -0.037466   \n",
       "positioning                         0.061287       0.441371  0.769202   \n",
       "vision                             -0.007580       0.629062  0.654235   \n",
       "penalties                           0.149782       0.406961  0.699682   \n",
       "marking                             0.281587       0.135819 -0.168131   \n",
       "standing_tackle                     0.272529       0.198677 -0.106443   \n",
       "sliding_tackle                      0.240742       0.169400 -0.126398   \n",
       "gk_diving                          -0.028416      -0.015854 -0.201548   \n",
       "gk_handling                        -0.019479      -0.067265 -0.107150   \n",
       "gk_kicking                         -0.029383      -0.092031 -0.226384   \n",
       "gk_positioning                     -0.016692      -0.073867 -0.123325   \n",
       "gk_reflexes                        -0.012002      -0.068780 -0.125830   \n",
       "preferred_foot_left                -0.062228       0.023197  0.012136   \n",
       "preferred_foot_right                0.062228      -0.023197 -0.012136   \n",
       "attacking_work_rate_high           -0.022713       0.141712  0.268992   \n",
       "attacking_work_rate_low             0.104347      -0.100521 -0.109948   \n",
       "attacking_work_rate_medium         -0.035969      -0.075955 -0.188291   \n",
       "defensive_work_rate_high            0.153521       0.099683  0.007842   \n",
       "defensive_work_rate_low            -0.028124       0.006484  0.221954   \n",
       "defensive_work_rate_medium         -0.101336      -0.084279 -0.172010   \n",
       "\n",
       "                            dribbling     curve  free_kick_accuracy  ...  \\\n",
       "overall_rating               0.442589  0.343403            0.333992  ...   \n",
       "potential                    0.424433  0.288770            0.257246  ...   \n",
       "crossing                     0.564787  0.718932            0.649236  ...   \n",
       "finishing                    0.620660  0.687971            0.632248  ...   \n",
       "heading_accuracy            -0.139128 -0.063598           -0.036743  ...   \n",
       "short_passing                0.557914  0.510891            0.514316  ...   \n",
       "volleys                      0.597569  0.752248            0.678982  ...   \n",
       "dribbling                    1.000000  0.595360            0.507205  ...   \n",
       "curve                        0.595360  1.000000            0.793008  ...   \n",
       "free_kick_accuracy           0.507205  0.793008            1.000000  ...   \n",
       "long_passing                 0.347026  0.498041            0.526118  ...   \n",
       "ball_control                 0.766384  0.600723            0.543361  ...   \n",
       "acceleration                 0.541788  0.469202            0.353760  ...   \n",
       "sprint_speed                 0.498083  0.416363            0.296886  ...   \n",
       "agility                      0.596619  0.585104            0.473733  ...   \n",
       "reactions                    0.418056  0.362677            0.339789  ...   \n",
       "balance                      0.394191  0.436613            0.378335  ...   \n",
       "shot_power                   0.511273  0.533981            0.549878  ...   \n",
       "jumping                     -0.042444 -0.016976           -0.026616  ...   \n",
       "stamina                      0.243715  0.297826            0.277966  ...   \n",
       "strength                    -0.218549 -0.121870           -0.067331  ...   \n",
       "long_shots                   0.589969  0.779780            0.772659  ...   \n",
       "aggression                  -0.105635  0.186273            0.218351  ...   \n",
       "interceptions               -0.191977  0.135767            0.178005  ...   \n",
       "positioning                  0.589301  0.709773            0.647176  ...   \n",
       "vision                       0.556618  0.685485            0.657458  ...   \n",
       "penalties                    0.465961  0.635244            0.656280  ...   \n",
       "marking                     -0.328575  0.033514            0.074506  ...   \n",
       "standing_tackle             -0.274863  0.094780            0.134508  ...   \n",
       "sliding_tackle              -0.282015  0.081215            0.106378  ...   \n",
       "gk_diving                   -0.026119 -0.211278           -0.186009  ...   \n",
       "gk_handling                 -0.069876 -0.151199           -0.145346  ...   \n",
       "gk_kicking                  -0.095541 -0.283654           -0.240738  ...   \n",
       "gk_positioning              -0.082491 -0.170779           -0.157513  ...   \n",
       "gk_reflexes                 -0.085090 -0.173801           -0.160853  ...   \n",
       "preferred_foot_left          0.039144  0.128362            0.124433  ...   \n",
       "preferred_foot_right        -0.039144 -0.128362           -0.124433  ...   \n",
       "attacking_work_rate_high     0.295260  0.276506            0.207397  ...   \n",
       "attacking_work_rate_low     -0.208533 -0.112401           -0.074308  ...   \n",
       "attacking_work_rate_medium  -0.158748 -0.193889           -0.150884  ...   \n",
       "defensive_work_rate_high    -0.072767  0.003293            0.022586  ...   \n",
       "defensive_work_rate_low      0.158915  0.161173            0.144035  ...   \n",
       "defensive_work_rate_medium  -0.060694 -0.122991           -0.125567  ...   \n",
       "\n",
       "                            gk_positioning  gk_reflexes  preferred_foot_left  \\\n",
       "overall_rating                   -0.047284    -0.036980            -0.003871   \n",
       "potential                         0.032950     0.035670             0.001548   \n",
       "crossing                         -0.146087    -0.154408             0.172408   \n",
       "finishing                        -0.134676    -0.140989            -0.011565   \n",
       "heading_accuracy                 -0.016692    -0.012002            -0.062228   \n",
       "short_passing                    -0.073867    -0.068780             0.023197   \n",
       "volleys                          -0.123325    -0.125830             0.012136   \n",
       "dribbling                        -0.082491    -0.085090             0.039144   \n",
       "curve                            -0.170779    -0.173801             0.128362   \n",
       "free_kick_accuracy               -0.157513    -0.160853             0.124433   \n",
       "long_passing                     -0.126192    -0.124966             0.086030   \n",
       "ball_control                     -0.089183    -0.085879             0.025644   \n",
       "acceleration                     -0.098989    -0.111503             0.066461   \n",
       "sprint_speed                     -0.089317    -0.096713             0.061687   \n",
       "agility                          -0.118913    -0.128010             0.060822   \n",
       "reactions                        -0.041190    -0.036859            -0.009080   \n",
       "balance                          -0.044237    -0.052306             0.052912   \n",
       "shot_power                       -0.127281    -0.126633             0.030418   \n",
       "jumping                          -0.021355    -0.020327            -0.033511   \n",
       "stamina                          -0.063883    -0.073308             0.030210   \n",
       "strength                         -0.064823    -0.054565            -0.041256   \n",
       "long_shots                       -0.176150    -0.182223             0.060061   \n",
       "aggression                       -0.135489    -0.133998             0.035331   \n",
       "interceptions                     0.011624     0.006705             0.073508   \n",
       "positioning                      -0.069646    -0.078492             0.032023   \n",
       "vision                           -0.040172    -0.043167             0.029512   \n",
       "penalties                        -0.053302    -0.060909             0.016264   \n",
       "marking                          -0.086027    -0.090085             0.095611   \n",
       "standing_tackle                  -0.116526    -0.123793             0.091692   \n",
       "sliding_tackle                   -0.094875    -0.100603             0.098026   \n",
       "gk_diving                        -0.007580     0.004502            -0.015737   \n",
       "gk_handling                       0.680307     0.686101            -0.028936   \n",
       "gk_kicking                        0.640616     0.641805            -0.046579   \n",
       "gk_positioning                    1.000000     0.684143            -0.020675   \n",
       "gk_reflexes                       0.684143     1.000000            -0.017568   \n",
       "preferred_foot_left              -0.020675    -0.017568             1.000000   \n",
       "preferred_foot_right              0.020675     0.017568            -1.000000   \n",
       "attacking_work_rate_high         -0.088074    -0.092383             0.034634   \n",
       "attacking_work_rate_low           0.035015     0.039127            -0.022394   \n",
       "attacking_work_rate_medium        0.062188     0.063922            -0.019749   \n",
       "defensive_work_rate_high         -0.042099    -0.039067            -0.040730   \n",
       "defensive_work_rate_low           0.046018     0.054764             0.006303   \n",
       "defensive_work_rate_medium       -0.000819    -0.009767             0.027750   \n",
       "\n",
       "                            preferred_foot_right  attacking_work_rate_high  \\\n",
       "overall_rating                          0.003871                  0.149254   \n",
       "potential                              -0.001548                  0.144034   \n",
       "crossing                               -0.172408                  0.277261   \n",
       "finishing                               0.011565                  0.282821   \n",
       "heading_accuracy                        0.062228                 -0.022713   \n",
       "short_passing                          -0.023197                  0.141712   \n",
       "volleys                                -0.012136                  0.268992   \n",
       "dribbling                              -0.039144                  0.295260   \n",
       "curve                                  -0.128362                  0.276506   \n",
       "free_kick_accuracy                     -0.124433                  0.207397   \n",
       "long_passing                           -0.086030                  0.105702   \n",
       "ball_control                           -0.025644                  0.238302   \n",
       "acceleration                           -0.066461                  0.329248   \n",
       "sprint_speed                           -0.061687                  0.330297   \n",
       "agility                                -0.060822                  0.309139   \n",
       "reactions                               0.009080                  0.172698   \n",
       "balance                                -0.052912                  0.203682   \n",
       "shot_power                             -0.030418                  0.217730   \n",
       "jumping                                 0.033511                  0.064185   \n",
       "stamina                                -0.030210                  0.252866   \n",
       "strength                                0.041256                 -0.058504   \n",
       "long_shots                             -0.060061                  0.266609   \n",
       "aggression                             -0.035331                  0.068382   \n",
       "interceptions                          -0.073508                 -0.015840   \n",
       "positioning                            -0.032023                  0.301538   \n",
       "vision                                 -0.029512                  0.208573   \n",
       "penalties                              -0.016264                  0.198940   \n",
       "marking                                -0.095611                 -0.041600   \n",
       "standing_tackle                        -0.091692                 -0.021726   \n",
       "sliding_tackle                         -0.098026                 -0.014987   \n",
       "gk_diving                               0.015737                 -0.058291   \n",
       "gk_handling                             0.028936                 -0.083171   \n",
       "gk_kicking                              0.046579                 -0.119872   \n",
       "gk_positioning                          0.020675                 -0.088074   \n",
       "gk_reflexes                             0.017568                 -0.092383   \n",
       "preferred_foot_left                    -1.000000                  0.034634   \n",
       "preferred_foot_right                    1.000000                 -0.034634   \n",
       "attacking_work_rate_high               -0.034634                  1.000000   \n",
       "attacking_work_rate_low                 0.022394                 -0.148547   \n",
       "attacking_work_rate_medium              0.019749                 -0.841952   \n",
       "defensive_work_rate_high                0.040730                  0.057185   \n",
       "defensive_work_rate_low                -0.006303                  0.008646   \n",
       "defensive_work_rate_medium             -0.027750                 -0.052027   \n",
       "\n",
       "                            attacking_work_rate_low  \\\n",
       "overall_rating                            -0.018716   \n",
       "potential                                 -0.050129   \n",
       "crossing                                  -0.107970   \n",
       "finishing                                 -0.130848   \n",
       "heading_accuracy                           0.104347   \n",
       "short_passing                             -0.100521   \n",
       "volleys                                   -0.109948   \n",
       "dribbling                                 -0.208533   \n",
       "curve                                     -0.112401   \n",
       "free_kick_accuracy                        -0.074308   \n",
       "long_passing                              -0.029346   \n",
       "ball_control                              -0.151895   \n",
       "acceleration                              -0.126484   \n",
       "sprint_speed                              -0.121963   \n",
       "agility                                   -0.145041   \n",
       "reactions                                 -0.052539   \n",
       "balance                                   -0.073489   \n",
       "shot_power                                -0.088428   \n",
       "jumping                                    0.032821   \n",
       "stamina                                   -0.048379   \n",
       "strength                                   0.124572   \n",
       "long_shots                                -0.098168   \n",
       "aggression                                 0.109231   \n",
       "interceptions                              0.141202   \n",
       "positioning                               -0.113629   \n",
       "vision                                    -0.082816   \n",
       "penalties                                 -0.055804   \n",
       "marking                                    0.159828   \n",
       "standing_tackle                            0.146513   \n",
       "sliding_tackle                             0.138485   \n",
       "gk_diving                                 -0.032939   \n",
       "gk_handling                                0.040634   \n",
       "gk_kicking                                 0.030684   \n",
       "gk_positioning                             0.035015   \n",
       "gk_reflexes                                0.039127   \n",
       "preferred_foot_left                       -0.022394   \n",
       "preferred_foot_right                       0.022394   \n",
       "attacking_work_rate_high                  -0.148547   \n",
       "attacking_work_rate_low                    1.000000   \n",
       "attacking_work_rate_medium                -0.408497   \n",
       "defensive_work_rate_high                   0.112596   \n",
       "defensive_work_rate_low                    0.113114   \n",
       "defensive_work_rate_medium                -0.174203   \n",
       "\n",
       "                            attacking_work_rate_medium  \\\n",
       "overall_rating                               -0.127550   \n",
       "potential                                    -0.105593   \n",
       "crossing                                     -0.197003   \n",
       "finishing                                    -0.189653   \n",
       "heading_accuracy                             -0.035969   \n",
       "short_passing                                -0.075955   \n",
       "volleys                                      -0.188291   \n",
       "dribbling                                    -0.158748   \n",
       "curve                                        -0.193889   \n",
       "free_kick_accuracy                           -0.150884   \n",
       "long_passing                                 -0.081552   \n",
       "ball_control                                 -0.137078   \n",
       "acceleration                                 -0.234885   \n",
       "sprint_speed                                 -0.238320   \n",
       "agility                                      -0.206200   \n",
       "reactions                                    -0.130735   \n",
       "balance                                      -0.147902   \n",
       "shot_power                                   -0.152718   \n",
       "jumping                                      -0.077150   \n",
       "stamina                                      -0.207000   \n",
       "strength                                     -0.013969   \n",
       "long_shots                                   -0.192519   \n",
       "aggression                                   -0.122714   \n",
       "interceptions                                -0.062420   \n",
       "positioning                                  -0.216323   \n",
       "vision                                       -0.147328   \n",
       "penalties                                    -0.153175   \n",
       "marking                                      -0.048806   \n",
       "standing_tackle                              -0.059885   \n",
       "sliding_tackle                               -0.061725   \n",
       "gk_diving                                     0.071774   \n",
       "gk_handling                                   0.054597   \n",
       "gk_kicking                                    0.093901   \n",
       "gk_positioning                                0.062188   \n",
       "gk_reflexes                                   0.063922   \n",
       "preferred_foot_left                          -0.019749   \n",
       "preferred_foot_right                          0.019749   \n",
       "attacking_work_rate_high                     -0.841952   \n",
       "attacking_work_rate_low                      -0.408497   \n",
       "attacking_work_rate_medium                    1.000000   \n",
       "defensive_work_rate_high                     -0.114214   \n",
       "defensive_work_rate_low                      -0.069696   \n",
       "defensive_work_rate_medium                    0.143067   \n",
       "\n",
       "                            defensive_work_rate_high  defensive_work_rate_low  \\\n",
       "overall_rating                              0.129420                 0.027486   \n",
       "potential                                   0.069993                 0.030666   \n",
       "crossing                                    0.035428                 0.074344   \n",
       "finishing                                  -0.028085                 0.243666   \n",
       "heading_accuracy                            0.153521                -0.028124   \n",
       "short_passing                               0.099683                 0.006484   \n",
       "volleys                                     0.007842                 0.221954   \n",
       "dribbling                                  -0.072767                 0.158915   \n",
       "curve                                       0.003293                 0.161173   \n",
       "free_kick_accuracy                          0.022586                 0.144035   \n",
       "long_passing                                0.149620                -0.036092   \n",
       "ball_control                                0.001384                 0.117344   \n",
       "acceleration                               -0.033829                 0.120857   \n",
       "sprint_speed                               -0.031991                 0.107268   \n",
       "agility                                    -0.035662                 0.138362   \n",
       "reactions                                   0.120367                 0.017407   \n",
       "balance                                     0.023378                 0.072452   \n",
       "shot_power                                  0.058953                 0.116020   \n",
       "jumping                                     0.151630                -0.053333   \n",
       "stamina                                     0.244989                -0.099661   \n",
       "strength                                    0.193480                -0.064176   \n",
       "long_shots                                  0.050842                 0.167951   \n",
       "aggression                                  0.305301                -0.135303   \n",
       "interceptions                               0.284348                -0.177293   \n",
       "positioning                                 0.015942                 0.202541   \n",
       "vision                                      0.073992                 0.121688   \n",
       "penalties                                   0.016273                 0.202468   \n",
       "marking                                     0.284865                -0.233166   \n",
       "standing_tackle                             0.292096                -0.227424   \n",
       "sliding_tackle                              0.290391                -0.241637   \n",
       "gk_diving                                  -0.048136                -0.049611   \n",
       "gk_handling                                -0.051504                 0.057721   \n",
       "gk_kicking                                 -0.064959                 0.033402   \n",
       "gk_positioning                             -0.042099                 0.046018   \n",
       "gk_reflexes                                -0.039067                 0.054764   \n",
       "preferred_foot_left                        -0.040730                 0.006303   \n",
       "preferred_foot_right                        0.040730                -0.006303   \n",
       "attacking_work_rate_high                    0.057185                 0.008646   \n",
       "attacking_work_rate_low                     0.112596                 0.113114   \n",
       "attacking_work_rate_medium                 -0.114214                -0.069696   \n",
       "defensive_work_rate_high                    1.000000                -0.161964   \n",
       "defensive_work_rate_low                    -0.161964                 1.000000   \n",
       "defensive_work_rate_medium                 -0.675933                -0.617756   \n",
       "\n",
       "                            defensive_work_rate_medium  \n",
       "overall_rating                               -0.123661  \n",
       "potential                                    -0.078679  \n",
       "crossing                                     -0.083754  \n",
       "finishing                                    -0.159595  \n",
       "heading_accuracy                             -0.101336  \n",
       "short_passing                                -0.084279  \n",
       "volleys                                      -0.172010  \n",
       "dribbling                                    -0.060694  \n",
       "curve                                        -0.122991  \n",
       "free_kick_accuracy                           -0.125567  \n",
       "long_passing                                 -0.092277  \n",
       "ball_control                                 -0.088739  \n",
       "acceleration                                 -0.063301  \n",
       "sprint_speed                                 -0.054617  \n",
       "agility                                      -0.074913  \n",
       "reactions                                    -0.108919  \n",
       "balance                                      -0.072738  \n",
       "shot_power                                   -0.133626  \n",
       "jumping                                      -0.081003  \n",
       "stamina                                      -0.120801  \n",
       "strength                                     -0.106254  \n",
       "long_shots                                   -0.165945  \n",
       "aggression                                   -0.142244  \n",
       "interceptions                                -0.094187  \n",
       "positioning                                  -0.163966  \n",
       "vision                                       -0.149844  \n",
       "penalties                                    -0.164176  \n",
       "marking                                      -0.052872  \n",
       "standing_tackle                              -0.062923  \n",
       "sliding_tackle                               -0.050950  \n",
       "gk_diving                                     0.075410  \n",
       "gk_handling                                  -0.002064  \n",
       "gk_kicking                                    0.026820  \n",
       "gk_positioning                               -0.000819  \n",
       "gk_reflexes                                  -0.009767  \n",
       "preferred_foot_left                           0.027750  \n",
       "preferred_foot_right                         -0.027750  \n",
       "attacking_work_rate_high                     -0.052027  \n",
       "attacking_work_rate_low                      -0.174203  \n",
       "attacking_work_rate_medium                    0.143067  \n",
       "defensive_work_rate_high                     -0.675933  \n",
       "defensive_work_rate_low                      -0.617756  \n",
       "defensive_work_rate_medium                    1.000000  \n",
       "\n",
       "[43 rows x 43 columns]"
      ]
     },
     "execution_count": 43,
     "metadata": {},
     "output_type": "execute_result"
    }
   ],
   "source": [
    "#Method-1\n",
    "\n",
    "#Checking the correlation of the final dataset\n",
    "finalDataset.corr()"
   ]
  },
  {
   "cell_type": "code",
   "execution_count": 44,
   "metadata": {},
   "outputs": [],
   "source": [
    "#Seperating the label and feature from the dataset.\n",
    "label =finalDataset.pop(\"overall_rating\").values"
   ]
  },
  {
   "cell_type": "code",
   "execution_count": 45,
   "metadata": {},
   "outputs": [],
   "source": [
    "#Method-2\n",
    "\n",
    "#ANOVA"
   ]
  },
  {
   "cell_type": "code",
   "execution_count": 46,
   "metadata": {},
   "outputs": [],
   "source": [
    "featuresforAnova = finalDataset.iloc[:,:].values\n",
    "#finalDataset.columns"
   ]
  },
  {
   "cell_type": "code",
   "execution_count": 47,
   "metadata": {
    "scrolled": true
   },
   "outputs": [
    {
     "name": "stdout",
     "output_type": "stream",
     "text": [
      "Index(['potential', 'crossing', 'finishing', 'heading_accuracy',\n",
      "       'short_passing', 'volleys', 'dribbling', 'curve', 'free_kick_accuracy',\n",
      "       'long_passing', 'ball_control', 'acceleration', 'sprint_speed',\n",
      "       'agility', 'reactions', 'balance', 'shot_power', 'jumping', 'stamina',\n",
      "       'strength', 'long_shots', 'aggression', 'interceptions', 'positioning',\n",
      "       'vision', 'penalties', 'marking', 'standing_tackle', 'sliding_tackle',\n",
      "       'gk_diving', 'gk_handling', 'gk_kicking', 'gk_positioning',\n",
      "       'gk_reflexes', 'preferred_foot_left', 'preferred_foot_right',\n",
      "       'attacking_work_rate_high', 'attacking_work_rate_low',\n",
      "       'attacking_work_rate_medium', 'defensive_work_rate_high',\n",
      "       'defensive_work_rate_low', 'defensive_work_rate_medium'],\n",
      "      dtype='object')\n",
      "[ True  True  True  True  True  True  True  True  True  True  True False\n",
      " False False  True False  True  True  True  True  True  True False  True\n",
      "  True  True False False False False False False False False False False\n",
      " False False False False False False]\n"
     ]
    }
   ],
   "source": [
    "# Anova test for feature selection\n",
    "from sklearn.feature_selection import SelectPercentile\n",
    "from sklearn.feature_selection import f_regression\n",
    "\n",
    "selectfeaturefromAnova = SelectPercentile(percentile=50, score_func=f_regression)\n",
    "selectfeaturefromAnova.fit(featuresforAnova, label)\n",
    "c = finalDataset.columns\n",
    "ans = selectfeaturefromAnova.get_support()\n",
    "print(finalDataset.columns)\n",
    "print(selectfeaturefromAnova.get_support())"
   ]
  },
  {
   "cell_type": "markdown",
   "metadata": {},
   "source": [
    "After analyzing both the methods, I'm deleting the common columns of both the methods."
   ]
  },
  {
   "cell_type": "code",
   "execution_count": 48,
   "metadata": {},
   "outputs": [],
   "source": [
    "#Creating a dataFrame for the columns with the boolean output of ANOVA\n",
    "result = pd.DataFrame(ans, index=c)"
   ]
  },
  {
   "cell_type": "code",
   "execution_count": 49,
   "metadata": {
    "scrolled": true
   },
   "outputs": [
    {
     "data": {
      "text/html": [
       "<div>\n",
       "<style scoped>\n",
       "    .dataframe tbody tr th:only-of-type {\n",
       "        vertical-align: middle;\n",
       "    }\n",
       "\n",
       "    .dataframe tbody tr th {\n",
       "        vertical-align: top;\n",
       "    }\n",
       "\n",
       "    .dataframe thead th {\n",
       "        text-align: right;\n",
       "    }\n",
       "</style>\n",
       "<table border=\"1\" class=\"dataframe\">\n",
       "  <thead>\n",
       "    <tr style=\"text-align: right;\">\n",
       "      <th></th>\n",
       "      <th>0</th>\n",
       "    </tr>\n",
       "  </thead>\n",
       "  <tbody>\n",
       "    <tr>\n",
       "      <th>potential</th>\n",
       "      <td>True</td>\n",
       "    </tr>\n",
       "    <tr>\n",
       "      <th>crossing</th>\n",
       "      <td>True</td>\n",
       "    </tr>\n",
       "    <tr>\n",
       "      <th>finishing</th>\n",
       "      <td>True</td>\n",
       "    </tr>\n",
       "    <tr>\n",
       "      <th>heading_accuracy</th>\n",
       "      <td>True</td>\n",
       "    </tr>\n",
       "    <tr>\n",
       "      <th>short_passing</th>\n",
       "      <td>True</td>\n",
       "    </tr>\n",
       "  </tbody>\n",
       "</table>\n",
       "</div>"
      ],
      "text/plain": [
       "                     0\n",
       "potential         True\n",
       "crossing          True\n",
       "finishing         True\n",
       "heading_accuracy  True\n",
       "short_passing     True"
      ]
     },
     "execution_count": 49,
     "metadata": {},
     "output_type": "execute_result"
    }
   ],
   "source": [
    "result.head()"
   ]
  },
  {
   "cell_type": "markdown",
   "metadata": {},
   "source": [
    "#### Visualization of the relationship between few features and the label"
   ]
  },
  {
   "cell_type": "code",
   "execution_count": 50,
   "metadata": {},
   "outputs": [
    {
     "data": {
      "image/png": "[encoded data removed]",
      "text/plain": [
       "<Figure size 360x360 with 1 Axes>"
      ]
     },
     "metadata": {
      "needs_background": "light"
     },
     "output_type": "display_data"
    }
   ],
   "source": [
    "sns.relplot('gk_reflexes','overall_rating', data=df, kind='line')\n",
    "plt.show()"
   ]
  },
  {
   "cell_type": "code",
   "execution_count": 51,
   "metadata": {},
   "outputs": [
    {
     "data": {
      "image/png": "[encoded data removed]",
      "text/plain": [
       "<Figure size 360x360 with 1 Axes>"
      ]
     },
     "metadata": {
      "needs_background": "light"
     },
     "output_type": "display_data"
    }
   ],
   "source": [
    "sns.relplot('gk_positioning','overall_rating', data=df, kind='line')\n",
    "plt.show()"
   ]
  },
  {
   "cell_type": "markdown",
   "metadata": {},
   "source": [
    "The above two features does not have much effect on the output."
   ]
  },
  {
   "cell_type": "code",
   "execution_count": 52,
   "metadata": {},
   "outputs": [
    {
     "data": {
      "image/png": "[encoded data removed]",
      "text/plain": [
       "<Figure size 360x360 with 1 Axes>"
      ]
     },
     "metadata": {
      "needs_background": "light"
     },
     "output_type": "display_data"
    }
   ],
   "source": [
    "sns.relplot('potential','overall_rating', data=df, kind='line')\n",
    "plt.show()"
   ]
  },
  {
   "cell_type": "markdown",
   "metadata": {},
   "source": [
    "'potential' feature has linear relationship with 'overall_rating'. Also, it has 76% correlation with the output."
   ]
  },
  {
   "cell_type": "code",
   "execution_count": 55,
   "metadata": {},
   "outputs": [
    {
     "data": {
      "image/png": "[encoded data removed]",
      "text/plain": [
       "<Figure size 466.875x360 with 1 Axes>"
      ]
     },
     "metadata": {
      "needs_background": "light"
     },
     "output_type": "display_data"
    }
   ],
   "source": [
    "sns.relplot('acceleration','overall_rating',hue='preferred_foot', data=df, kind='line')\n",
    "plt.show()"
   ]
  },
  {
   "cell_type": "code",
   "execution_count": 56,
   "metadata": {
    "scrolled": true
   },
   "outputs": [
    {
     "data": {
      "text/plain": [
       "Index(['acceleration', 'sprint_speed', 'agility', 'balance', 'interceptions',\n",
       "       'marking', 'standing_tackle', 'sliding_tackle', 'gk_diving',\n",
       "       'gk_handling', 'gk_kicking', 'gk_positioning', 'gk_reflexes',\n",
       "       'preferred_foot_left', 'preferred_foot_right',\n",
       "       'attacking_work_rate_high', 'attacking_work_rate_low',\n",
       "       'attacking_work_rate_medium', 'defensive_work_rate_high',\n",
       "       'defensive_work_rate_low', 'defensive_work_rate_medium'],\n",
       "      dtype='object')"
      ]
     },
     "execution_count": 56,
     "metadata": {},
     "output_type": "execute_result"
    }
   ],
   "source": [
    "#Select the columns that are to be deleted (Feature Selection).\n",
    "delete_col = result[result[0]==False].index\n",
    "delete_col"
   ]
  },
  {
   "cell_type": "code",
   "execution_count": 57,
   "metadata": {},
   "outputs": [],
   "source": [
    "#Dropping out the columns which have been selected to delete.\n",
    "finalDataset.drop(delete_col,axis=1, inplace=True)"
   ]
  },
  {
   "cell_type": "code",
   "execution_count": 58,
   "metadata": {
    "scrolled": true
   },
   "outputs": [
    {
     "data": {
      "text/html": [
       "<div>\n",
       "<style scoped>\n",
       "    .dataframe tbody tr th:only-of-type {\n",
       "        vertical-align: middle;\n",
       "    }\n",
       "\n",
       "    .dataframe tbody tr th {\n",
       "        vertical-align: top;\n",
       "    }\n",
       "\n",
       "    .dataframe thead th {\n",
       "        text-align: right;\n",
       "    }\n",
       "</style>\n",
       "<table border=\"1\" class=\"dataframe\">\n",
       "  <thead>\n",
       "    <tr style=\"text-align: right;\">\n",
       "      <th></th>\n",
       "      <th>potential</th>\n",
       "      <th>crossing</th>\n",
       "      <th>finishing</th>\n",
       "      <th>heading_accuracy</th>\n",
       "      <th>short_passing</th>\n",
       "      <th>volleys</th>\n",
       "      <th>dribbling</th>\n",
       "      <th>curve</th>\n",
       "      <th>free_kick_accuracy</th>\n",
       "      <th>long_passing</th>\n",
       "      <th>...</th>\n",
       "      <th>reactions</th>\n",
       "      <th>shot_power</th>\n",
       "      <th>jumping</th>\n",
       "      <th>stamina</th>\n",
       "      <th>strength</th>\n",
       "      <th>long_shots</th>\n",
       "      <th>aggression</th>\n",
       "      <th>positioning</th>\n",
       "      <th>vision</th>\n",
       "      <th>penalties</th>\n",
       "    </tr>\n",
       "  </thead>\n",
       "  <tbody>\n",
       "    <tr>\n",
       "      <th>0</th>\n",
       "      <td>71.0</td>\n",
       "      <td>49.0</td>\n",
       "      <td>44.0</td>\n",
       "      <td>71.0</td>\n",
       "      <td>61.0</td>\n",
       "      <td>44.0</td>\n",
       "      <td>51.0</td>\n",
       "      <td>45.0</td>\n",
       "      <td>39.0</td>\n",
       "      <td>64.0</td>\n",
       "      <td>...</td>\n",
       "      <td>47.0</td>\n",
       "      <td>55.0</td>\n",
       "      <td>58.0</td>\n",
       "      <td>54.0</td>\n",
       "      <td>76.0</td>\n",
       "      <td>35.0</td>\n",
       "      <td>71.0</td>\n",
       "      <td>45.0</td>\n",
       "      <td>54.0</td>\n",
       "      <td>48.0</td>\n",
       "    </tr>\n",
       "    <tr>\n",
       "      <th>1</th>\n",
       "      <td>71.0</td>\n",
       "      <td>49.0</td>\n",
       "      <td>44.0</td>\n",
       "      <td>71.0</td>\n",
       "      <td>61.0</td>\n",
       "      <td>44.0</td>\n",
       "      <td>51.0</td>\n",
       "      <td>45.0</td>\n",
       "      <td>39.0</td>\n",
       "      <td>64.0</td>\n",
       "      <td>...</td>\n",
       "      <td>47.0</td>\n",
       "      <td>55.0</td>\n",
       "      <td>58.0</td>\n",
       "      <td>54.0</td>\n",
       "      <td>76.0</td>\n",
       "      <td>35.0</td>\n",
       "      <td>71.0</td>\n",
       "      <td>45.0</td>\n",
       "      <td>54.0</td>\n",
       "      <td>48.0</td>\n",
       "    </tr>\n",
       "    <tr>\n",
       "      <th>2</th>\n",
       "      <td>66.0</td>\n",
       "      <td>49.0</td>\n",
       "      <td>44.0</td>\n",
       "      <td>71.0</td>\n",
       "      <td>61.0</td>\n",
       "      <td>44.0</td>\n",
       "      <td>51.0</td>\n",
       "      <td>45.0</td>\n",
       "      <td>39.0</td>\n",
       "      <td>64.0</td>\n",
       "      <td>...</td>\n",
       "      <td>47.0</td>\n",
       "      <td>55.0</td>\n",
       "      <td>58.0</td>\n",
       "      <td>54.0</td>\n",
       "      <td>76.0</td>\n",
       "      <td>35.0</td>\n",
       "      <td>63.0</td>\n",
       "      <td>45.0</td>\n",
       "      <td>54.0</td>\n",
       "      <td>48.0</td>\n",
       "    </tr>\n",
       "    <tr>\n",
       "      <th>3</th>\n",
       "      <td>65.0</td>\n",
       "      <td>48.0</td>\n",
       "      <td>43.0</td>\n",
       "      <td>70.0</td>\n",
       "      <td>60.0</td>\n",
       "      <td>43.0</td>\n",
       "      <td>50.0</td>\n",
       "      <td>44.0</td>\n",
       "      <td>38.0</td>\n",
       "      <td>63.0</td>\n",
       "      <td>...</td>\n",
       "      <td>46.0</td>\n",
       "      <td>54.0</td>\n",
       "      <td>58.0</td>\n",
       "      <td>54.0</td>\n",
       "      <td>76.0</td>\n",
       "      <td>34.0</td>\n",
       "      <td>62.0</td>\n",
       "      <td>44.0</td>\n",
       "      <td>53.0</td>\n",
       "      <td>47.0</td>\n",
       "    </tr>\n",
       "    <tr>\n",
       "      <th>4</th>\n",
       "      <td>65.0</td>\n",
       "      <td>48.0</td>\n",
       "      <td>43.0</td>\n",
       "      <td>70.0</td>\n",
       "      <td>60.0</td>\n",
       "      <td>43.0</td>\n",
       "      <td>50.0</td>\n",
       "      <td>44.0</td>\n",
       "      <td>38.0</td>\n",
       "      <td>63.0</td>\n",
       "      <td>...</td>\n",
       "      <td>46.0</td>\n",
       "      <td>54.0</td>\n",
       "      <td>58.0</td>\n",
       "      <td>54.0</td>\n",
       "      <td>76.0</td>\n",
       "      <td>34.0</td>\n",
       "      <td>62.0</td>\n",
       "      <td>44.0</td>\n",
       "      <td>53.0</td>\n",
       "      <td>47.0</td>\n",
       "    </tr>\n",
       "  </tbody>\n",
       "</table>\n",
       "<p>5 rows × 21 columns</p>\n",
       "</div>"
      ],
      "text/plain": [
       "   potential  crossing  finishing  heading_accuracy  short_passing  volleys  \\\n",
       "0       71.0      49.0       44.0              71.0           61.0     44.0   \n",
       "1       71.0      49.0       44.0              71.0           61.0     44.0   \n",
       "2       66.0      49.0       44.0              71.0           61.0     44.0   \n",
       "3       65.0      48.0       43.0              70.0           60.0     43.0   \n",
       "4       65.0      48.0       43.0              70.0           60.0     43.0   \n",
       "\n",
       "   dribbling  curve  free_kick_accuracy  long_passing  ...  reactions  \\\n",
       "0       51.0   45.0                39.0          64.0  ...       47.0   \n",
       "1       51.0   45.0                39.0          64.0  ...       47.0   \n",
       "2       51.0   45.0                39.0          64.0  ...       47.0   \n",
       "3       50.0   44.0                38.0          63.0  ...       46.0   \n",
       "4       50.0   44.0                38.0          63.0  ...       46.0   \n",
       "\n",
       "   shot_power  jumping  stamina  strength  long_shots  aggression  \\\n",
       "0        55.0     58.0     54.0      76.0        35.0        71.0   \n",
       "1        55.0     58.0     54.0      76.0        35.0        71.0   \n",
       "2        55.0     58.0     54.0      76.0        35.0        63.0   \n",
       "3        54.0     58.0     54.0      76.0        34.0        62.0   \n",
       "4        54.0     58.0     54.0      76.0        34.0        62.0   \n",
       "\n",
       "   positioning  vision  penalties  \n",
       "0         45.0    54.0       48.0  \n",
       "1         45.0    54.0       48.0  \n",
       "2         45.0    54.0       48.0  \n",
       "3         44.0    53.0       47.0  \n",
       "4         44.0    53.0       47.0  \n",
       "\n",
       "[5 rows x 21 columns]"
      ]
     },
     "execution_count": 58,
     "metadata": {},
     "output_type": "execute_result"
    }
   ],
   "source": [
    "finalDataset.head()"
   ]
  },
  {
   "cell_type": "code",
   "execution_count": 59,
   "metadata": {
    "scrolled": true
   },
   "outputs": [
    {
     "name": "stdout",
     "output_type": "stream",
     "text": [
      "<class 'pandas.core.frame.DataFrame'>\n",
      "Int64Index: 183142 entries, 0 to 183977\n",
      "Data columns (total 21 columns):\n",
      " #   Column              Non-Null Count   Dtype  \n",
      "---  ------              --------------   -----  \n",
      " 0   potential           183142 non-null  float64\n",
      " 1   crossing            183142 non-null  float64\n",
      " 2   finishing           183142 non-null  float64\n",
      " 3   heading_accuracy    183142 non-null  float64\n",
      " 4   short_passing       183142 non-null  float64\n",
      " 5   volleys             183142 non-null  float64\n",
      " 6   dribbling           183142 non-null  float64\n",
      " 7   curve               183142 non-null  float64\n",
      " 8   free_kick_accuracy  183142 non-null  float64\n",
      " 9   long_passing        183142 non-null  float64\n",
      " 10  ball_control        183142 non-null  float64\n",
      " 11  reactions           183142 non-null  float64\n",
      " 12  shot_power          183142 non-null  float64\n",
      " 13  jumping             183142 non-null  float64\n",
      " 14  stamina             183142 non-null  float64\n",
      " 15  strength            183142 non-null  float64\n",
      " 16  long_shots          183142 non-null  float64\n",
      " 17  aggression          183142 non-null  float64\n",
      " 18  positioning         183142 non-null  float64\n",
      " 19  vision              183142 non-null  float64\n",
      " 20  penalties           183142 non-null  float64\n",
      "dtypes: float64(21)\n",
      "memory usage: 30.7 MB\n"
     ]
    }
   ],
   "source": [
    "finalDataset.info()"
   ]
  },
  {
   "cell_type": "code",
   "execution_count": 60,
   "metadata": {},
   "outputs": [
    {
     "data": {
      "image/png": "[encoded data removed]",
      "text/plain": [
       "<Figure size 1152x1152 with 25 Axes>"
      ]
     },
     "metadata": {
      "needs_background": "light"
     },
     "output_type": "display_data"
    }
   ],
   "source": [
    "finalDataset.hist(bins=70, figsize=(16,16))\n",
    "plt.show()"
   ]
  },
  {
   "cell_type": "code",
   "execution_count": 71,
   "metadata": {},
   "outputs": [],
   "source": [
    "#Select the features\n",
    "feature = finalDataset.iloc[:,:].values"
   ]
  },
  {
   "cell_type": "code",
   "execution_count": 72,
   "metadata": {},
   "outputs": [],
   "source": [
    "#Standardise the data\n",
    "from sklearn.preprocessing import StandardScaler\n",
    "scaler = StandardScaler()\n",
    "feature = scaler.fit_transform(feature)"
   ]
  },
  {
   "cell_type": "markdown",
   "metadata": {},
   "source": [
    "### Checking the multicollinearity of the features"
   ]
  },
  {
   "cell_type": "code",
   "execution_count": 63,
   "metadata": {},
   "outputs": [],
   "source": [
    "#Using variance_inflation_factor to find the multicollinearity. \n",
    "from statsmodels.stats.outliers_influence import variance_inflation_factor\n",
    "vif = pd.DataFrame()\n",
    "\n",
    "vif['VIF'] = [variance_inflation_factor(feature, i) for i in range(feature.shape[1])]\n",
    "vif[\"Features\"] = finalDataset.columns"
   ]
  },
  {
   "cell_type": "code",
   "execution_count": 64,
   "metadata": {},
   "outputs": [
    {
     "data": {
      "text/html": [
       "<div>\n",
       "<style scoped>\n",
       "    .dataframe tbody tr th:only-of-type {\n",
       "        vertical-align: middle;\n",
       "    }\n",
       "\n",
       "    .dataframe tbody tr th {\n",
       "        vertical-align: top;\n",
       "    }\n",
       "\n",
       "    .dataframe thead th {\n",
       "        text-align: right;\n",
       "    }\n",
       "</style>\n",
       "<table border=\"1\" class=\"dataframe\">\n",
       "  <thead>\n",
       "    <tr style=\"text-align: right;\">\n",
       "      <th></th>\n",
       "      <th>VIF</th>\n",
       "      <th>Features</th>\n",
       "    </tr>\n",
       "  </thead>\n",
       "  <tbody>\n",
       "    <tr>\n",
       "      <th>0</th>\n",
       "      <td>1.794936</td>\n",
       "      <td>potential</td>\n",
       "    </tr>\n",
       "    <tr>\n",
       "      <th>1</th>\n",
       "      <td>2.744280</td>\n",
       "      <td>crossing</td>\n",
       "    </tr>\n",
       "    <tr>\n",
       "      <th>2</th>\n",
       "      <td>5.722797</td>\n",
       "      <td>finishing</td>\n",
       "    </tr>\n",
       "    <tr>\n",
       "      <th>3</th>\n",
       "      <td>1.924457</td>\n",
       "      <td>heading_accuracy</td>\n",
       "    </tr>\n",
       "    <tr>\n",
       "      <th>4</th>\n",
       "      <td>3.299598</td>\n",
       "      <td>short_passing</td>\n",
       "    </tr>\n",
       "    <tr>\n",
       "      <th>5</th>\n",
       "      <td>4.920276</td>\n",
       "      <td>volleys</td>\n",
       "    </tr>\n",
       "    <tr>\n",
       "      <th>6</th>\n",
       "      <td>3.511119</td>\n",
       "      <td>dribbling</td>\n",
       "    </tr>\n",
       "    <tr>\n",
       "      <th>7</th>\n",
       "      <td>4.408173</td>\n",
       "      <td>curve</td>\n",
       "    </tr>\n",
       "    <tr>\n",
       "      <th>8</th>\n",
       "      <td>3.604231</td>\n",
       "      <td>free_kick_accuracy</td>\n",
       "    </tr>\n",
       "    <tr>\n",
       "      <th>9</th>\n",
       "      <td>2.703285</td>\n",
       "      <td>long_passing</td>\n",
       "    </tr>\n",
       "    <tr>\n",
       "      <th>10</th>\n",
       "      <td>3.920180</td>\n",
       "      <td>ball_control</td>\n",
       "    </tr>\n",
       "    <tr>\n",
       "      <th>11</th>\n",
       "      <td>2.005754</td>\n",
       "      <td>reactions</td>\n",
       "    </tr>\n",
       "    <tr>\n",
       "      <th>12</th>\n",
       "      <td>2.307481</td>\n",
       "      <td>shot_power</td>\n",
       "    </tr>\n",
       "    <tr>\n",
       "      <th>13</th>\n",
       "      <td>1.247488</td>\n",
       "      <td>jumping</td>\n",
       "    </tr>\n",
       "    <tr>\n",
       "      <th>14</th>\n",
       "      <td>1.501623</td>\n",
       "      <td>stamina</td>\n",
       "    </tr>\n",
       "    <tr>\n",
       "      <th>15</th>\n",
       "      <td>1.869948</td>\n",
       "      <td>strength</td>\n",
       "    </tr>\n",
       "    <tr>\n",
       "      <th>16</th>\n",
       "      <td>5.879658</td>\n",
       "      <td>long_shots</td>\n",
       "    </tr>\n",
       "    <tr>\n",
       "      <th>17</th>\n",
       "      <td>2.011702</td>\n",
       "      <td>aggression</td>\n",
       "    </tr>\n",
       "    <tr>\n",
       "      <th>18</th>\n",
       "      <td>4.084733</td>\n",
       "      <td>positioning</td>\n",
       "    </tr>\n",
       "    <tr>\n",
       "      <th>19</th>\n",
       "      <td>3.113127</td>\n",
       "      <td>vision</td>\n",
       "    </tr>\n",
       "    <tr>\n",
       "      <th>20</th>\n",
       "      <td>2.866229</td>\n",
       "      <td>penalties</td>\n",
       "    </tr>\n",
       "  </tbody>\n",
       "</table>\n",
       "</div>"
      ],
      "text/plain": [
       "         VIF            Features\n",
       "0   1.794936           potential\n",
       "1   2.744280            crossing\n",
       "2   5.722797           finishing\n",
       "3   1.924457    heading_accuracy\n",
       "4   3.299598       short_passing\n",
       "5   4.920276             volleys\n",
       "6   3.511119           dribbling\n",
       "7   4.408173               curve\n",
       "8   3.604231  free_kick_accuracy\n",
       "9   2.703285        long_passing\n",
       "10  3.920180        ball_control\n",
       "11  2.005754           reactions\n",
       "12  2.307481          shot_power\n",
       "13  1.247488             jumping\n",
       "14  1.501623             stamina\n",
       "15  1.869948            strength\n",
       "16  5.879658          long_shots\n",
       "17  2.011702          aggression\n",
       "18  4.084733         positioning\n",
       "19  3.113127              vision\n",
       "20  2.866229           penalties"
      ]
     },
     "execution_count": 64,
     "metadata": {},
     "output_type": "execute_result"
    }
   ],
   "source": [
    "vif"
   ]
  },
  {
   "cell_type": "code",
   "execution_count": 65,
   "metadata": {},
   "outputs": [],
   "source": [
    "#Select the columns which have VIF less than 5.\n",
    "final_col = vif[vif['VIF']<=5]"
   ]
  },
  {
   "cell_type": "code",
   "execution_count": 66,
   "metadata": {},
   "outputs": [],
   "source": [
    "final_column = final_col.Features.to_list()"
   ]
  },
  {
   "cell_type": "code",
   "execution_count": 73,
   "metadata": {},
   "outputs": [],
   "source": [
    "#Selecting those columns as a final featues.\n",
    "feature_vif = finalDataset.loc[:,final_column].values"
   ]
  },
  {
   "cell_type": "code",
   "execution_count": 76,
   "metadata": {},
   "outputs": [
    {
     "data": {
      "text/plain": [
       "2"
      ]
     },
     "execution_count": 76,
     "metadata": {},
     "output_type": "execute_result"
    }
   ],
   "source": [
    "feature_vif.ndim"
   ]
  },
  {
   "cell_type": "code",
   "execution_count": 77,
   "metadata": {},
   "outputs": [
    {
     "data": {
      "text/plain": [
       "2"
      ]
     },
     "execution_count": 77,
     "metadata": {},
     "output_type": "execute_result"
    }
   ],
   "source": [
    "feature.ndim"
   ]
  },
  {
   "cell_type": "code",
   "execution_count": 78,
   "metadata": {},
   "outputs": [
    {
     "data": {
      "text/plain": [
       "1"
      ]
     },
     "execution_count": 78,
     "metadata": {},
     "output_type": "execute_result"
    }
   ],
   "source": [
    "label.ndim"
   ]
  },
  {
   "cell_type": "markdown",
   "metadata": {},
   "source": [
    "### Using cross_validation method to check which algoarithm gives best results on the dataset I'm working."
   ]
  },
  {
   "cell_type": "code",
   "execution_count": 79,
   "metadata": {},
   "outputs": [],
   "source": [
    "from sklearn.linear_model import LinearRegression\n",
    "Linear_reg = LinearRegression()\n",
    "from sklearn.tree import DecisionTreeRegressor\n",
    "D_tree = DecisionTreeRegressor()\n",
    "\n",
    "from xgboost import XGBRegressor\n",
    "xg_reg = XGBRegressor()\n",
    "from sklearn.ensemble import RandomForestRegressor\n",
    "R_forest = RandomForestRegressor()"
   ]
  },
  {
   "cell_type": "code",
   "execution_count": 81,
   "metadata": {},
   "outputs": [
    {
     "name": "stdout",
     "output_type": "stream",
     "text": [
      "LinearRegression()\n",
      "The minimum score 0.7571178037295876\n",
      "Average score 0.7708515723167805\n",
      "The maximum score 0.7915283626749815\n",
      "-------------------------------------------\n",
      "DecisionTreeRegressor()\n",
      "The minimum score 0.6919553575811463\n",
      "Average score 0.7093801224910552\n",
      "The maximum score 0.7419156084987635\n",
      "-------------------------------------------\n",
      "XGBRegressor(base_score=None, booster=None, colsample_bylevel=None,\n",
      "             colsample_bynode=None, colsample_bytree=None, gamma=None,\n",
      "             gpu_id=None, importance_type='gain', interaction_constraints=None,\n",
      "             learning_rate=None, max_delta_step=None, max_depth=None,\n",
      "             min_child_weight=None, missing=nan, monotone_constraints=None,\n",
      "             n_estimators=100, n_jobs=None, num_parallel_tree=None,\n",
      "             random_state=None, reg_alpha=None, reg_lambda=None,\n",
      "             scale_pos_weight=None, subsample=None, tree_method=None,\n",
      "             validate_parameters=None, verbosity=None)\n",
      "The minimum score 0.8471739706963095\n",
      "Average score 0.8615813327208673\n",
      "The maximum score 0.8734359898046927\n",
      "-------------------------------------------\n",
      "RandomForestRegressor()\n",
      "The minimum score 0.8509207692422204\n",
      "Average score 0.8617837125979826\n",
      "The maximum score 0.8732727486519322\n",
      "-------------------------------------------\n"
     ]
    }
   ],
   "source": [
    "#Features from VIF\n",
    "models = [Linear_reg,D_tree,xg_reg,R_forest]\n",
    "\n",
    "from sklearn.model_selection import cross_val_score\n",
    "for model in models:\n",
    "    \n",
    "    score = cross_val_score(model,\n",
    "                           feature_vif,\n",
    "                           label,\n",
    "                           cv=10)\n",
    "    print(model)\n",
    "    print(\"The minimum score {}\".format(np.min(score)))\n",
    "    print(\"Average score {}\".format(np.average(score)))\n",
    "    print(\"The maximum score {}\".format(np.max(score)))\n",
    "    print('-------------------------------------------')"
   ]
  },
  {
   "cell_type": "code",
   "execution_count": 82,
   "metadata": {
    "scrolled": false
   },
   "outputs": [
    {
     "name": "stdout",
     "output_type": "stream",
     "text": [
      "LinearRegression()\n",
      "The minimum score 0.7586393364663124\n",
      "Average score 0.7715276186127165\n",
      "The maximum score 0.7919254281103235\n",
      "-------------------------------------------\n",
      "DecisionTreeRegressor()\n",
      "The minimum score 0.6968761540054536\n",
      "Average score 0.7157598328737781\n",
      "The maximum score 0.7498640059802566\n",
      "-------------------------------------------\n",
      "XGBRegressor(base_score=None, booster=None, colsample_bylevel=None,\n",
      "             colsample_bynode=None, colsample_bytree=None, gamma=None,\n",
      "             gpu_id=None, importance_type='gain', interaction_constraints=None,\n",
      "             learning_rate=None, max_delta_step=None, max_depth=None,\n",
      "             min_child_weight=None, missing=nan, monotone_constraints=None,\n",
      "             n_estimators=100, n_jobs=None, num_parallel_tree=None,\n",
      "             random_state=None, reg_alpha=None, reg_lambda=None,\n",
      "             scale_pos_weight=None, subsample=None, tree_method=None,\n",
      "             validate_parameters=None, verbosity=None)\n",
      "The minimum score 0.8590564977147295\n",
      "Average score 0.8659919360335524\n",
      "The maximum score 0.878281434087436\n",
      "-------------------------------------------\n",
      "RandomForestRegressor()\n",
      "The minimum score 0.8532789326647167\n",
      "Average score 0.8637600228600263\n",
      "The maximum score 0.8739950141069635\n",
      "-------------------------------------------\n"
     ]
    }
   ],
   "source": [
    "#Before vif (feature)\n",
    "models = [Linear_reg,D_tree,xg_reg,R_forest]\n",
    "\n",
    "from sklearn.model_selection import cross_val_score\n",
    "for model in models:\n",
    "    \n",
    "    score = cross_val_score(model,\n",
    "                           feature,\n",
    "                           label,\n",
    "                           cv=10)\n",
    "    print(model)\n",
    "    print(\"The minimum score {}\".format(np.min(score)))\n",
    "    print(\"Average score {}\".format(np.average(score)))\n",
    "    print(\"The maximum score {}\".format(np.max(score)))\n",
    "    print('-------------------------------------------')"
   ]
  },
  {
   "cell_type": "markdown",
   "metadata": {},
   "source": [
    "Models are performing better on the original features than feature_vif(features after removing multicollinearity). Therefore, I'm using \"feature\" to train the model."
   ]
  },
  {
   "cell_type": "markdown",
   "metadata": {},
   "source": [
    "### Use the features Before VIF since the above Accuracy is more"
   ]
  },
  {
   "cell_type": "markdown",
   "metadata": {},
   "source": [
    "### Random Forest"
   ]
  },
  {
   "cell_type": "code",
   "execution_count": 83,
   "metadata": {
    "scrolled": true
   },
   "outputs": [
    {
     "name": "stdout",
     "output_type": "stream",
     "text": [
      "test score 0.9554712649008863, train score 0.9924333884704438, RS 0\n",
      "test score 0.9550651413504133, train score 0.9923893808882001, RS 1\n",
      "test score 0.9554170801903803, train score 0.992464833473577, RS 2\n",
      "test score 0.9531027088276097, train score 0.992364343934506, RS 3\n",
      "test score 0.9541493680116843, train score 0.9923861234267314, RS 4\n",
      "test score 0.9549083151603988, train score 0.9924454416561392, RS 5\n"
     ]
    }
   ],
   "source": [
    "from sklearn.model_selection import train_test_split\n",
    "for i in range(6):\n",
    "    \n",
    "    x_train,x_test,y_train,y_test = train_test_split(feature,label,test_size=0.2, random_state=i)\n",
    "    \n",
    "    from sklearn.ensemble import RandomForestRegressor\n",
    "    modelR = RandomForestRegressor()\n",
    "    \n",
    "    modelR.fit(x_train,y_train)\n",
    "    \n",
    "    train_score = modelR.score(x_train,y_train)\n",
    "    test_score = modelR.score(x_test,y_test)\n",
    "    \n",
    "    #if test_score>train_score:\n",
    "    print(f\"test score {test_score}, train score {train_score}, RS {i}\")"
   ]
  },
  {
   "cell_type": "markdown",
   "metadata": {},
   "source": [
    "# Do not execute below code"
   ]
  },
  {
   "cell_type": "code",
   "execution_count": 39,
   "metadata": {},
   "outputs": [
    {
     "name": "stdout",
     "output_type": "stream",
     "text": [
      "Test Score: 0.9597830836201338, train score: 0.9929141865499941, for Sample Split: 1\n",
      "Test Score: 0.9595574805438827, train score: 0.9929474425719625, for Sample Split: 2\n",
      "Test Score: 0.9588186558581697, train score: 0.9929554279050017, for Sample Split: 3\n",
      "Test Score: 0.9608057111830041, train score: 0.9929176607714582, for Sample Split: 4\n",
      "Test Score: 0.960645942823553, train score: 0.9929568946309203, for Sample Split: 5\n",
      "Test Score: 0.9593700697431119, train score: 0.9929240181560809, for Sample Split: 6\n",
      "Test Score: 0.9595081535441692, train score: 0.9928220655769074, for Sample Split: 7\n",
      "Test Score: 0.9619547822406048, train score: 0.9929175624552131, for Sample Split: 8\n",
      "Test Score: 0.9605974804454327, train score: 0.9928528814855803, for Sample Split: 9\n",
      "Test Score: 0.9575898393855726, train score: 0.9928827428560392, for Sample Split: 10\n"
     ]
    }
   ],
   "source": [
    "# Initialize the algo\n",
    "from sklearn.ensemble import RandomForestRegressor\n",
    "modelR = RandomForestRegressor()\n",
    "\n",
    "#Initialize K-Fold method\n",
    "from sklearn.model_selection import KFold\n",
    "kfold = KFold(n_splits=10,\n",
    "             random_state=7,\n",
    "             shuffle=True)\n",
    "#Initialize for loop\n",
    "i=0\n",
    "for train,test in kfold.split(feature):\n",
    "    i=i+1\n",
    "    x_train,x_test = feature[train],feature[test]\n",
    "    y_train,y_test = label[train],label[test]\n",
    "    \n",
    "    \n",
    "    modelR.fit(x_train,y_train)\n",
    "    \n",
    "    #if model.score(x_test,y_test)>=0.95:\n",
    "    print(\"Test Score: {}, train score: {}, for Sample Split: {}\".format(model.score(x_test,y_test),model.score(x_train,y_train),i))\n",
    "        "
   ]
  },
  {
   "cell_type": "code",
   "execution_count": null,
   "metadata": {},
   "outputs": [],
   "source": []
  },
  {
   "cell_type": "markdown",
   "metadata": {},
   "source": [
    "### Hyper Parameter Tuning - Random Forest"
   ]
  },
  {
   "cell_type": "code",
   "execution_count": 54,
   "metadata": {},
   "outputs": [],
   "source": [
    "from sklearn.model_selection import GridSearchCV, ShuffleSplit, RandomizedSearchCV\n",
    "\n",
    "cv = ShuffleSplit(test_size=0.2, random_state=0)\n",
    "\n",
    "param_grid = {'max_features':['sqrt', 'log2', 10],\n",
    "              'max_depth':[9, 11, 13]}                 \n",
    "\n",
    "grid = GridSearchCV(modelR, param_grid=param_grid, cv=cv)"
   ]
  },
  {
   "cell_type": "code",
   "execution_count": 55,
   "metadata": {},
   "outputs": [
    {
     "data": {
      "text/plain": [
       "GridSearchCV(cv=ShuffleSplit(n_splits=10, random_state=0, test_size=0.2, train_size=None),\n",
       "             estimator=RandomForestRegressor(),\n",
       "             param_grid={'max_depth': [9, 11, 13],\n",
       "                         'max_features': ['sqrt', 'log2', 10]})"
      ]
     },
     "execution_count": 55,
     "metadata": {},
     "output_type": "execute_result"
    }
   ],
   "source": [
    "grid.fit(x_train, y_train) "
   ]
  },
  {
   "cell_type": "code",
   "execution_count": 56,
   "metadata": {},
   "outputs": [
    {
     "data": {
      "text/plain": [
       "0.9458596401288115"
      ]
     },
     "execution_count": 56,
     "metadata": {},
     "output_type": "execute_result"
    }
   ],
   "source": [
    "grid.best_score_"
   ]
  },
  {
   "cell_type": "code",
   "execution_count": 57,
   "metadata": {},
   "outputs": [
    {
     "data": {
      "text/plain": [
       "RandomForestRegressor(max_depth=13, max_features=10)"
      ]
     },
     "execution_count": 57,
     "metadata": {},
     "output_type": "execute_result"
    }
   ],
   "source": [
    "grid.best_estimator_"
   ]
  },
  {
   "cell_type": "markdown",
   "metadata": {},
   "source": [
    "Since the Random Forest giving better accuracy( greater than 94.5%) without hyper parameter, I will not be trainig the model with hyper parameters instead I would use the above model to deploy."
   ]
  },
  {
   "cell_type": "markdown",
   "metadata": {},
   "source": [
    "## Decision Tree"
   ]
  },
  {
   "cell_type": "code",
   "execution_count": 84,
   "metadata": {
    "scrolled": true
   },
   "outputs": [
    {
     "name": "stdout",
     "output_type": "stream",
     "text": [
      "test score 0.9147529797827847, train score 0.9982235362025955, RS 0\n",
      "test score 0.9127414760992457, train score 0.998201770531, RS 1\n",
      "test score 0.9183863923774459, train score 0.9983381873505228, RS 2\n",
      "test score 0.913072190661725, train score 0.998183035924238, RS 3\n",
      "test score 0.9173033165138964, train score 0.9982999655314452, RS 4\n",
      "test score 0.9185558736515884, train score 0.9983066181969672, RS 5\n",
      "test score 0.9147881473574716, train score 0.9981791473047097, RS 6\n",
      "test score 0.9170792732687992, train score 0.9981806969480481, RS 7\n",
      "test score 0.9177733244571582, train score 0.9982899111064576, RS 8\n",
      "test score 0.9153473912538922, train score 0.9981768055391375, RS 9\n",
      "test score 0.9173155623079711, train score 0.9981829321084875, RS 10\n",
      "test score 0.914025868833674, train score 0.9983140832654807, RS 11\n"
     ]
    }
   ],
   "source": [
    "from sklearn.model_selection import train_test_split\n",
    "for i in range(12):\n",
    "    \n",
    "    x_train,x_test,y_train,y_test = train_test_split(feature,label,test_size=0.2, random_state=i)\n",
    "    \n",
    "    from sklearn.tree import DecisionTreeRegressor\n",
    "    model_DT = DecisionTreeRegressor()\n",
    "    \n",
    "    model_DT.fit(x_train,y_train)\n",
    "    \n",
    "    train_score = model_DT.score(x_train,y_train)\n",
    "    test_score = model_DT.score(x_test,y_test)\n",
    "    \n",
    "    #if test_score>train_score:\n",
    "    print(f\"test score {test_score}, train score {train_score}, RS {i}\")"
   ]
  },
  {
   "cell_type": "markdown",
   "metadata": {},
   "source": [
    "### Hyper parameter Tuning - Decision Tree"
   ]
  },
  {
   "cell_type": "code",
   "execution_count": 87,
   "metadata": {},
   "outputs": [],
   "source": [
    "from sklearn.model_selection import ShuffleSplit, GridSearchCV\n",
    "cv = ShuffleSplit(n_splits=10, random_state=42)        #cross validation\n",
    "\n",
    "param_grid = {'max_depth': [3, 5, 7, 9, 13],\n",
    "             'criterion': ['mse', 'friedman_mse']}\n",
    "\n",
    "grid = GridSearchCV(model_DT, param_grid=param_grid, cv=cv)"
   ]
  },
  {
   "cell_type": "code",
   "execution_count": 88,
   "metadata": {},
   "outputs": [
    {
     "data": {
      "text/plain": [
       "GridSearchCV(cv=ShuffleSplit(n_splits=10, random_state=42, test_size=None, train_size=None),\n",
       "             estimator=DecisionTreeRegressor(),\n",
       "             param_grid={'criterion': ['mse', 'friedman_mse'],\n",
       "                         'max_depth': [3, 5, 7, 9, 13]})"
      ]
     },
     "execution_count": 88,
     "metadata": {},
     "output_type": "execute_result"
    }
   ],
   "source": [
    "grid.fit(x_train,y_train)"
   ]
  },
  {
   "cell_type": "code",
   "execution_count": 89,
   "metadata": {},
   "outputs": [
    {
     "data": {
      "text/plain": [
       "0.86495842099397"
      ]
     },
     "execution_count": 89,
     "metadata": {},
     "output_type": "execute_result"
    }
   ],
   "source": [
    "grid.best_score_"
   ]
  },
  {
   "cell_type": "code",
   "execution_count": 90,
   "metadata": {},
   "outputs": [
    {
     "data": {
      "text/plain": [
       "{'criterion': 'friedman_mse', 'max_depth': 13}"
      ]
     },
     "execution_count": 90,
     "metadata": {},
     "output_type": "execute_result"
    }
   ],
   "source": [
    "grid.best_params_"
   ]
  },
  {
   "cell_type": "code",
   "execution_count": 91,
   "metadata": {},
   "outputs": [
    {
     "data": {
      "text/plain": [
       "DecisionTreeRegressor(criterion='friedman_mse', max_depth=13)"
      ]
     },
     "execution_count": 91,
     "metadata": {},
     "output_type": "execute_result"
    }
   ],
   "source": [
    "grid.best_estimator_"
   ]
  },
  {
   "cell_type": "code",
   "execution_count": 62,
   "metadata": {},
   "outputs": [],
   "source": []
  },
  {
   "cell_type": "code",
   "execution_count": 92,
   "metadata": {},
   "outputs": [
    {
     "name": "stdout",
     "output_type": "stream",
     "text": [
      "test score 0.9052603108441731, train score 0.9263501886025088, RS 1\n",
      "test score 0.9044322118000419, train score 0.926485566370181, RS 2\n",
      "test score 0.9011905077567084, train score 0.9260590407594145, RS 3\n",
      "test score 0.9064932189367867, train score 0.9275532955935366, RS 4\n",
      "test score 0.9020398477984954, train score 0.924835474654694, RS 5\n",
      "test score 0.9026029000425501, train score 0.9268601315175758, RS 6\n",
      "test score 0.9023418852566601, train score 0.9262363436158336, RS 7\n",
      "test score 0.9054646409947322, train score 0.9259713360173913, RS 8\n",
      "test score 0.906818292016952, train score 0.9264741630755948, RS 9\n",
      "test score 0.8987145011223941, train score 0.9262715376570793, RS 10\n"
     ]
    }
   ],
   "source": [
    "from sklearn.model_selection import KFold\n",
    "kfold = KFold(n_splits=10,\n",
    "             random_state=7,\n",
    "             shuffle=True)\n",
    "#Initialize for loop\n",
    "i=0\n",
    "for train,test in kfold.split(feature):\n",
    "    i=i+1\n",
    "    \n",
    "    x_train,x_test = feature[train],feature[test]\n",
    "    y_train,y_test = label[train],label[test]\n",
    "    from sklearn.tree import DecisionTreeRegressor\n",
    "    from sklearn.ensemble import BaggingRegressor\n",
    "    model_DT = DecisionTreeRegressor(criterion='friedman_mse', max_depth=13)\n",
    "    modelBagtree = BaggingRegressor(n_estimators=11,base_estimator=model_DT,random_state=7)\n",
    "    \n",
    "    modelBagtree.fit(x_train,y_train)\n",
    "    \n",
    "    train_score = modelBagtree.score(x_train,y_train)\n",
    "    test_score = modelBagtree.score(x_test,y_test)\n",
    "    \n",
    "    #if test_score>train_score:\n",
    "    print(f\"test score {test_score}, train score {train_score}, RS {i}\")"
   ]
  },
  {
   "cell_type": "markdown",
   "metadata": {},
   "source": [
    "## XG Boost"
   ]
  },
  {
   "cell_type": "code",
   "execution_count": 93,
   "metadata": {
    "scrolled": false
   },
   "outputs": [
    {
     "name": "stdout",
     "output_type": "stream",
     "text": [
      "[20:50:07] WARNING: C:/Users/Administrator/workspace/xgboost-win64_release_1.2.0/src/objective/regression_obj.cu:174: reg:linear is now deprecated in favor of reg:squarederror.\n",
      "[20:50:53] WARNING: C:/Users/Administrator/workspace/xgboost-win64_release_1.2.0/src/objective/regression_obj.cu:174: reg:linear is now deprecated in favor of reg:squarederror.\n",
      "test score 0.9199291278323963, train score 0.9447666550977033, RS 0\n",
      "[20:50:56] WARNING: C:/Users/Administrator/workspace/xgboost-win64_release_1.2.0/src/objective/regression_obj.cu:174: reg:linear is now deprecated in favor of reg:squarederror.\n",
      "[20:51:40] WARNING: C:/Users/Administrator/workspace/xgboost-win64_release_1.2.0/src/objective/regression_obj.cu:174: reg:linear is now deprecated in favor of reg:squarederror.\n",
      "test score 0.9205374313085176, train score 0.9446984520875003, RS 1\n",
      "[20:51:43] WARNING: C:/Users/Administrator/workspace/xgboost-win64_release_1.2.0/src/objective/regression_obj.cu:174: reg:linear is now deprecated in favor of reg:squarederror.\n",
      "[20:52:30] WARNING: C:/Users/Administrator/workspace/xgboost-win64_release_1.2.0/src/objective/regression_obj.cu:174: reg:linear is now deprecated in favor of reg:squarederror.\n",
      "test score 0.9183180065111567, train score 0.9426767973028115, RS 2\n",
      "[20:52:33] WARNING: C:/Users/Administrator/workspace/xgboost-win64_release_1.2.0/src/objective/regression_obj.cu:174: reg:linear is now deprecated in favor of reg:squarederror.\n",
      "[20:53:18] WARNING: C:/Users/Administrator/workspace/xgboost-win64_release_1.2.0/src/objective/regression_obj.cu:174: reg:linear is now deprecated in favor of reg:squarederror.\n",
      "test score 0.9187058987735304, train score 0.9446676934067565, RS 3\n",
      "[20:53:21] WARNING: C:/Users/Administrator/workspace/xgboost-win64_release_1.2.0/src/objective/regression_obj.cu:174: reg:linear is now deprecated in favor of reg:squarederror.\n",
      "[20:54:05] WARNING: C:/Users/Administrator/workspace/xgboost-win64_release_1.2.0/src/objective/regression_obj.cu:174: reg:linear is now deprecated in favor of reg:squarederror.\n",
      "test score 0.9190444370396967, train score 0.9443188181221422, RS 4\n",
      "[20:54:08] WARNING: C:/Users/Administrator/workspace/xgboost-win64_release_1.2.0/src/objective/regression_obj.cu:174: reg:linear is now deprecated in favor of reg:squarederror.\n",
      "[20:54:53] WARNING: C:/Users/Administrator/workspace/xgboost-win64_release_1.2.0/src/objective/regression_obj.cu:174: reg:linear is now deprecated in favor of reg:squarederror.\n",
      "test score 0.919916492411465, train score 0.944047019101777, RS 5\n",
      "[20:54:56] WARNING: C:/Users/Administrator/workspace/xgboost-win64_release_1.2.0/src/objective/regression_obj.cu:174: reg:linear is now deprecated in favor of reg:squarederror.\n",
      "[20:55:41] WARNING: C:/Users/Administrator/workspace/xgboost-win64_release_1.2.0/src/objective/regression_obj.cu:174: reg:linear is now deprecated in favor of reg:squarederror.\n",
      "test score 0.9190462723791869, train score 0.9451143784427715, RS 6\n",
      "[20:55:44] WARNING: C:/Users/Administrator/workspace/xgboost-win64_release_1.2.0/src/objective/regression_obj.cu:174: reg:linear is now deprecated in favor of reg:squarederror.\n",
      "[20:56:30] WARNING: C:/Users/Administrator/workspace/xgboost-win64_release_1.2.0/src/objective/regression_obj.cu:174: reg:linear is now deprecated in favor of reg:squarederror.\n",
      "test score 0.9206055562517513, train score 0.9445033170490515, RS 7\n",
      "[20:56:33] WARNING: C:/Users/Administrator/workspace/xgboost-win64_release_1.2.0/src/objective/regression_obj.cu:174: reg:linear is now deprecated in favor of reg:squarederror.\n",
      "[20:57:18] WARNING: C:/Users/Administrator/workspace/xgboost-win64_release_1.2.0/src/objective/regression_obj.cu:174: reg:linear is now deprecated in favor of reg:squarederror.\n",
      "test score 0.921118094671401, train score 0.9424985449805697, RS 8\n",
      "[20:57:21] WARNING: C:/Users/Administrator/workspace/xgboost-win64_release_1.2.0/src/objective/regression_obj.cu:174: reg:linear is now deprecated in favor of reg:squarederror.\n",
      "[20:58:06] WARNING: C:/Users/Administrator/workspace/xgboost-win64_release_1.2.0/src/objective/regression_obj.cu:174: reg:linear is now deprecated in favor of reg:squarederror.\n",
      "test score 0.9208273405222636, train score 0.9443898990306466, RS 9\n"
     ]
    }
   ],
   "source": [
    "import warnings\n",
    "warnings.filterwarnings('ignore')\n",
    "from sklearn.model_selection import train_test_split\n",
    "for i in range(10):\n",
    "    \n",
    "    x_train,x_test,y_train,y_test = train_test_split(feature,label,test_size=0.25, random_state=i)\n",
    "    \n",
    "    from xgboost import XGBRegressor\n",
    "    \n",
    "    #from sklearn.ensemble import BaggingRegressor\n",
    "    model_XG = XGBRegressor(base_score=0.5, booster='gbtree', colsample_bylevel=1,\n",
    "             colsample_bynode=1, colsample_bytree=1, gamma=0,\n",
    "             importance_type='gain', learning_rate=0.3, max_delta_step=0,\n",
    "             max_depth=7, min_child_weight=1, missing=None, n_estimators=100,\n",
    "             n_jobs=1, nthread=None, objective='reg:linear', random_state=42,\n",
    "             reg_alpha=0, reg_lambda=1, scale_pos_weight=1, seed=None,\n",
    "             silent=None, subsample=1, verbosity=1)\n",
    "    #modelBagtree = BaggingRegressor(n_estimators=11,base_estimator=modelR,random_state=7)\n",
    "    \n",
    "    model_XG.fit(x_train,y_train)\n",
    "    \n",
    "    train_score = model_XG.score(x_train,y_train)\n",
    "    test_score = model_XG.score(x_test,y_test)\n",
    "    \n",
    "    #if test_score>train_score:\n",
    "    print(f\"test score {test_score}, train score {train_score}, RS {i}\")"
   ]
  },
  {
   "cell_type": "markdown",
   "metadata": {},
   "source": [
    "Out of all Three algoarithm namely:\n",
    "\n",
    "    1) Random Forest (modelR)\n",
    "    \n",
    "    2) Decision Tree (model_DT)\n",
    "    \n",
    "    3) XGBoost Regressor (model_XG),\n",
    "    \n",
    "Random Forest (ModelR) gave better accuracy than the other models. Therefore, I'm going to train Random Forest(modelR) as final model using K-Fold method."
   ]
  },
  {
   "cell_type": "markdown",
   "metadata": {},
   "source": [
    "### Final Model"
   ]
  },
  {
   "cell_type": "code",
   "execution_count": 97,
   "metadata": {},
   "outputs": [
    {
     "name": "stdout",
     "output_type": "stream",
     "text": [
      "Test Score: 0.9613940551117213, train score: 0.9928883243907604\n"
     ]
    }
   ],
   "source": [
    "# Initialize the algo\n",
    "from sklearn.ensemble import RandomForestRegressor\n",
    "modelR = RandomForestRegressor()\n",
    "\n",
    "#Initialize K-Fold method\n",
    "from sklearn.model_selection import KFold\n",
    "kfold = KFold(n_splits=10,\n",
    "             random_state=7,\n",
    "             shuffle=True)\n",
    "#Initialize for loop\n",
    "i=0\n",
    "for train,test in kfold.split(feature):\n",
    "    i=i+1\n",
    "    if i== 8:\n",
    "        x_train,x_test = feature[train],feature[test]\n",
    "        y_train,y_test = label[train],label[test]\n",
    "    \n",
    "        #Training the model\n",
    "        modelR.fit(x_train,y_train)\n",
    "    \n",
    "        print(\"Test Score: {}, train score: {}\".format(modelR.score(x_test,y_test),modelR.score(x_train,y_train)))\n",
    "        "
   ]
  },
  {
   "cell_type": "markdown",
   "metadata": {},
   "source": [
    "## Model Deployment"
   ]
  },
  {
   "cell_type": "code",
   "execution_count": 101,
   "metadata": {},
   "outputs": [],
   "source": [
    "#Import the pickle library to deploy the model\n",
    "import pickle\n",
    "#Saving the standard scaler to standardize the unknown features \n",
    "pickle.dump(scaler, open(\"Standardization_feature.model\", 'wb'))\n",
    "#Saving the model as \"RandomForest_MLProject.model\".\n",
    "pickle.dump(modelR, open(\"RandomForest_MLProject.model\",'wb'))"
   ]
  },
  {
   "cell_type": "markdown",
   "metadata": {},
   "source": [
    ".\n",
    "\n",
    ".\n",
    "\n",
    ".\n",
    "\n",
    ".\n",
    "\n",
    ".\n",
    "# Thank you !"
   ]
  }
 ],
 "metadata": {
  "kernelspec": {
   "display_name": "Python 3",
   "language": "python",
   "name": "python3"
  },
  "language_info": {
   "codemirror_mode": {
    "name": "ipython",
    "version": 3
   },
   "file_extension": ".py",
   "mimetype": "text/x-python",
   "name": "python",
   "nbconvert_exporter": "python",
   "pygments_lexer": "ipython3",
   "version": "3.8.3"
  }
 },
 "nbformat": 4,
 "nbformat_minor": 4
}
