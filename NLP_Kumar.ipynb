{
 "cells": [
  {
   "cell_type": "markdown",
   "metadata": {},
   "source": [
    "# Author: Kumar R."
   ]
  },
  {
   "cell_type": "markdown",
   "metadata": {},
   "source": [
    "# Assignment: Natural Language Processing"
   ]
  },
  {
   "cell_type": "markdown",
   "metadata": {},
   "source": [
    "##### In this assignment I have to find the frequency of words in a webpage using urllib and BeautifulSoup to extract text from webpage."
   ]
  },
  {
   "cell_type": "code",
   "execution_count": 1,
   "metadata": {},
   "outputs": [],
   "source": [
    "#Import the required libraries\n",
    "\n",
    "from bs4 import BeautifulSoup\n",
    "import urllib.request\n",
    "import nltk\n",
    "from nltk.corpus import stopwords"
   ]
  },
  {
   "cell_type": "code",
   "execution_count": 2,
   "metadata": {},
   "outputs": [],
   "source": [
    "#load the web page and get the text form it\n",
    "response = urllib.request.urlopen('https://en.wikipedia.org/wiki/Neuro-linguistic_programming')\n",
    "html = response.read()\n",
    "soup = BeautifulSoup(html,\"html5lib\").get_text()"
   ]
  },
  {
   "cell_type": "code",
   "execution_count": 3,
   "metadata": {},
   "outputs": [
    {
     "name": "stderr",
     "output_type": "stream",
     "text": [
      "[nltk_data] Downloading package punkt to\n",
      "[nltk_data]     C:\\Users\\Kumar\\AppData\\Roaming\\nltk_data...\n",
      "[nltk_data]   Package punkt is already up-to-date!\n"
     ]
    }
   ],
   "source": [
    "nltk.download('punkt')\n",
    "words = nltk.word_tokenize(soup)"
   ]
  },
  {
   "cell_type": "code",
   "execution_count": 4,
   "metadata": {
    "scrolled": true
   },
   "outputs": [
    {
     "name": "stdout",
     "output_type": "stream",
     "text": [
      "nlp : 174\n",
      "isbn : 98\n",
      "bandler : 95\n",
      "the : 89\n",
      "grinder : 87\n",
      "programming : 76\n",
      "john : 53\n",
      "a : 35\n",
      "new : 35\n",
      "retrieved : 33\n",
      "research : 32\n",
      "june : 31\n",
      "i : 31\n",
      "richard : 30\n",
      "hypnotism : 30\n",
      "pp : 30\n",
      "therapy : 29\n",
      "human : 27\n",
      "journal : 27\n",
      "in : 26\n",
      "psychology : 26\n",
      "practice : 26\n",
      "press : 26\n",
      "techniques : 25\n",
      "structure : 25\n",
      "scientific : 24\n",
      "january : 23\n",
      "psychotherapy : 22\n",
      "people : 22\n",
      "b : 22\n",
      "j : 22\n",
      "may : 20\n",
      "also : 20\n",
      "articles : 19\n",
      "language : 19\n",
      "linguistic : 19\n",
      "experience : 19\n",
      "science : 19\n",
      "neurolinguistic : 19\n",
      "see : 18\n",
      "training : 17\n",
      "subjective : 17\n",
      "behavior : 17\n",
      "development : 16\n",
      "magic : 16\n",
      "c : 16\n",
      "volume : 16\n",
      "original : 15\n",
      "books : 15\n",
      "health : 15\n"
     ]
    }
   ],
   "source": [
    "final_word = []\n",
    "final_freq = []\n",
    "words =[word for word in words if len(words)>1] \n",
    "\n",
    "# Removing any numbers present in our text\n",
    "words = [word for word in words if not word.isnumeric()]\n",
    "\n",
    "words = [word for word in words if word.isalpha()]\n",
    "\n",
    "# Removinng all english stop words  \n",
    "words = [word for word in words if word not in stopwords.words('english')]\n",
    "\n",
    "# Lowercase all words (default_stopwords are lowercase too)\n",
    "\n",
    "words = [word.lower() for word in words]\n",
    "\n",
    "\n",
    "# Calculating frequency distribution\n",
    "\n",
    "freq_dist = nltk.FreqDist(words)\n",
    "\n",
    "#printing the top 50 words with their frequency\n",
    "import pandas as pd\n",
    "for word, frequency in freq_dist.most_common(50):\n",
    "    final_word.append(word)\n",
    "    final_freq.append(frequency)\n",
    "    print(f'{word} : {frequency}')"
   ]
  },
  {
   "cell_type": "code",
   "execution_count": 5,
   "metadata": {},
   "outputs": [],
   "source": [
    "#Creating a datset\n",
    "data = pd.DataFrame({'WORDS': final_word, 'FREQUENCY': final_freq})"
   ]
  },
  {
   "cell_type": "code",
   "execution_count": 6,
   "metadata": {},
   "outputs": [
    {
     "data": {
      "text/html": [
       "<div>\n",
       "<style scoped>\n",
       "    .dataframe tbody tr th:only-of-type {\n",
       "        vertical-align: middle;\n",
       "    }\n",
       "\n",
       "    .dataframe tbody tr th {\n",
       "        vertical-align: top;\n",
       "    }\n",
       "\n",
       "    .dataframe thead th {\n",
       "        text-align: right;\n",
       "    }\n",
       "</style>\n",
       "<table border=\"1\" class=\"dataframe\">\n",
       "  <thead>\n",
       "    <tr style=\"text-align: right;\">\n",
       "      <th></th>\n",
       "      <th>WORDS</th>\n",
       "      <th>FREQUENCY</th>\n",
       "    </tr>\n",
       "  </thead>\n",
       "  <tbody>\n",
       "    <tr>\n",
       "      <th>0</th>\n",
       "      <td>nlp</td>\n",
       "      <td>174</td>\n",
       "    </tr>\n",
       "    <tr>\n",
       "      <th>1</th>\n",
       "      <td>isbn</td>\n",
       "      <td>98</td>\n",
       "    </tr>\n",
       "    <tr>\n",
       "      <th>2</th>\n",
       "      <td>bandler</td>\n",
       "      <td>95</td>\n",
       "    </tr>\n",
       "    <tr>\n",
       "      <th>3</th>\n",
       "      <td>the</td>\n",
       "      <td>89</td>\n",
       "    </tr>\n",
       "    <tr>\n",
       "      <th>4</th>\n",
       "      <td>grinder</td>\n",
       "      <td>87</td>\n",
       "    </tr>\n",
       "  </tbody>\n",
       "</table>\n",
       "</div>"
      ],
      "text/plain": [
       "     WORDS  FREQUENCY\n",
       "0      nlp        174\n",
       "1     isbn         98\n",
       "2  bandler         95\n",
       "3      the         89\n",
       "4  grinder         87"
      ]
     },
     "execution_count": 6,
     "metadata": {},
     "output_type": "execute_result"
    }
   ],
   "source": [
    "data.head()"
   ]
  },
  {
   "cell_type": "code",
   "execution_count": 7,
   "metadata": {
    "scrolled": true
   },
   "outputs": [
    {
     "name": "stdout",
     "output_type": "stream",
     "text": [
      "<class 'pandas.core.frame.DataFrame'>\n",
      "RangeIndex: 50 entries, 0 to 49\n",
      "Data columns (total 2 columns):\n",
      " #   Column     Non-Null Count  Dtype \n",
      "---  ------     --------------  ----- \n",
      " 0   WORDS      50 non-null     object\n",
      " 1   FREQUENCY  50 non-null     int64 \n",
      "dtypes: int64(1), object(1)\n",
      "memory usage: 928.0+ bytes\n"
     ]
    }
   ],
   "source": [
    "data.info()"
   ]
  },
  {
   "cell_type": "markdown",
   "metadata": {},
   "source": [
    "# Done!"
   ]
  }
 ],
 "metadata": {
  "kernelspec": {
   "display_name": "Python 3",
   "language": "python",
   "name": "python3"
  },
  "language_info": {
   "codemirror_mode": {
    "name": "ipython",
    "version": 3
   },
   "file_extension": ".py",
   "mimetype": "text/x-python",
   "name": "python",
   "nbconvert_exporter": "python",
   "pygments_lexer": "ipython3",
   "version": "3.8.3"
  }
 },
 "nbformat": 4,
 "nbformat_minor": 4
}
